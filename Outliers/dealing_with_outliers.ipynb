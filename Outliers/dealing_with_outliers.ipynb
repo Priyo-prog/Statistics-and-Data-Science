{
  "nbformat": 4,
  "nbformat_minor": 0,
  "metadata": {
    "colab": {
      "name": "dealing_with_outliers.ipynb",
      "provenance": [],
      "authorship_tag": "ABX9TyN9qcybF/bEe89UWxVHykYL",
      "include_colab_link": true
    },
    "kernelspec": {
      "name": "python3",
      "display_name": "Python 3"
    },
    "language_info": {
      "name": "python"
    }
  },
  "cells": [
    {
      "cell_type": "markdown",
      "metadata": {
        "id": "view-in-github",
        "colab_type": "text"
      },
      "source": [
        "<a href=\"https://colab.research.google.com/github/Priyo-prog/Statistics-and-Data-Science/blob/main/Outliers/dealing_with_outliers.ipynb\" target=\"_parent\"><img src=\"https://colab.research.google.com/assets/colab-badge.svg\" alt=\"Open In Colab\"/></a>"
      ]
    },
    {
      "cell_type": "markdown",
      "source": [
        "# **Outliers**\n",
        "\n",
        "Sometimes our dataset is not nice enough to simply have a NaN or Zero values to make it easy to tell what we should remove. Sometimes our dataset has outliers in it. So let's see some strategies to identifying these points."
      ],
      "metadata": {
        "id": "lUAK_NlrqwV7"
      }
    },
    {
      "cell_type": "markdown",
      "source": [
        "## Import Libraries and packages"
      ],
      "metadata": {
        "id": "LH3ekDy5rZ3G"
      }
    },
    {
      "cell_type": "code",
      "source": [
        "import pandas as pd\n",
        "import numpy as np\n",
        "\n",
        "filename_1 = '/content/drive/MyDrive/Data Science/Statistical Analysis/outlier_1d.txt'\n",
        "filename_2 = '/content/drive/MyDrive/Data Science/Statistical Analysis/outlier_2d.txt'\n",
        "filename_3 = '/content/drive/MyDrive/Data Science/Statistical Analysis/outlier_curve.txt'"
      ],
      "metadata": {
        "id": "GOQm1SrGsXMh"
      },
      "execution_count": 1,
      "outputs": []
    },
    {
      "cell_type": "code",
      "source": [
        ""
      ],
      "metadata": {
        "id": "fr8PSmpdstbd"
      },
      "execution_count": null,
      "outputs": []
    }
  ]
}