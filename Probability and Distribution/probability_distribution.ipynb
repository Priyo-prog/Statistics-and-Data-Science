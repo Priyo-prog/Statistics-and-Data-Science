{
  "nbformat": 4,
  "nbformat_minor": 0,
  "metadata": {
    "colab": {
      "name": "probability_distribution.ipynb",
      "provenance": [],
      "authorship_tag": "ABX9TyNcqn5z49S2+aZTF39Rd7Uc",
      "include_colab_link": true
    },
    "kernelspec": {
      "name": "python3",
      "display_name": "Python 3"
    },
    "language_info": {
      "name": "python"
    }
  },
  "cells": [
    {
      "cell_type": "markdown",
      "metadata": {
        "id": "view-in-github",
        "colab_type": "text"
      },
      "source": [
        "<a href=\"https://colab.research.google.com/github/Priyo-prog/Statistics-and-Data-Science/blob/main/Probability%20and%20Distribution/probability_distribution.ipynb\" target=\"_parent\"><img src=\"https://colab.research.google.com/assets/colab-badge.svg\" alt=\"Open In Colab\"/></a>"
      ]
    },
    {
      "cell_type": "markdown",
      "source": [
        "# **Probability and Distribution**"
      ],
      "metadata": {
        "id": "VkkQHWT0Firr"
      }
    },
    {
      "cell_type": "markdown",
      "source": [
        "## Import Libraries and Packages"
      ],
      "metadata": {
        "id": "62yFQKxFFzOA"
      }
    },
    {
      "cell_type": "code",
      "source": [
        "import numpy as np\n",
        "import matplotlib.pyplot as plt\n",
        "import scipy.stats as st\n",
        "import pandas as pd"
      ],
      "metadata": {
        "id": "BbPSj7ZkF5lt"
      },
      "execution_count": 1,
      "outputs": []
    },
    {
      "cell_type": "code",
      "source": [
        "xs = np.linspace(-5,10,200)\n",
        "ks = np.arange(50)"
      ],
      "metadata": {
        "id": "hCAjt5bkF6LG"
      },
      "execution_count": 2,
      "outputs": []
    },
    {
      "cell_type": "markdown",
      "source": [
        "## **Discrete PMFs**\n",
        "\n",
        "Probability Mass Function for Binomial distribution, Poisson distribution"
      ],
      "metadata": {
        "id": "o4NzJ6O5G2Y4"
      }
    },
    {
      "cell_type": "code",
      "source": [
        "pmf_binom = st.binom.pmf(ks, 50, 0.25) # ks value, 50 events, each event with chance 25% succefully happening\n",
        "\n",
        "fig, ax = plt.subplots(figsize=(10,7))\n",
        "plt.bar(ks, pmf_binom, label=\"Binomial Example (dice)\", alpha=0.8) "
      ],
      "metadata": {
        "id": "yGx3602RHEqt",
        "outputId": "596f9484-b405-4d61-d549-ed4e340aa53d",
        "colab": {
          "base_uri": "https://localhost:8080/",
          "height": 445
        }
      },
      "execution_count": 6,
      "outputs": [
        {
          "output_type": "execute_result",
          "data": {
            "text/plain": [
              "<BarContainer object of 50 artists>"
            ]
          },
          "metadata": {},
          "execution_count": 6
        },
        {
          "output_type": "display_data",
          "data": {
            "text/plain": [
              "<Figure size 720x504 with 1 Axes>"
            ],
            "image/png": "[encoded data removed]"
          },
          "metadata": {
            "needs_background": "light"
          }
        }
      ]
    },
    {
      "cell_type": "code",
      "source": [],
      "metadata": {
        "id": "sERM8DVdIFLX"
      },
      "execution_count": null,
      "outputs": []
    }
  ]
}