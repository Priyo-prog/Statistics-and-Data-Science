{
  "nbformat": 4,
  "nbformat_minor": 0,
  "metadata": {
    "colab": {
      "provenance": [],
      "authorship_tag": "ABX9TyMG3GTbZ8iyhC8dREVLGAnb",
      "include_colab_link": true
    },
    "kernelspec": {
      "name": "python3",
      "display_name": "Python 3"
    },
    "language_info": {
      "name": "python"
    }
  },
  "cells": [
    {
      "cell_type": "markdown",
      "metadata": {
        "id": "view-in-github",
        "colab_type": "text"
      },
      "source": [
        "<a href=\"https://colab.research.google.com/github/Priyo-prog/Statistics-and-Data-Science/blob/main/Feature%20Selection%20Complete/Filter%20Methods/constant_duplicate_removal_feature_engine.ipynb\" target=\"_parent\"><img src=\"https://colab.research.google.com/assets/colab-badge.svg\" alt=\"Open In Colab\"/></a>"
      ]
    },
    {
      "cell_type": "markdown",
      "source": [
        "# **Feature Engine Method Drop Constant and Duplicates**\n",
        "\n",
        "This method is to use feature engine to remove constants, quasi-constants and duplicate features."
      ],
      "metadata": {
        "id": "HrtLK6WNHGN4"
      }
    },
    {
      "cell_type": "code",
      "source": [],
      "metadata": {
        "id": "CGrXSc6KHkJk"
      },
      "execution_count": null,
      "outputs": []
    }
  ]
}