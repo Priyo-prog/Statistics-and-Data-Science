{
  "nbformat": 4,
  "nbformat_minor": 0,
  "metadata": {
    "colab": {
      "provenance": [],
      "authorship_tag": "ABX9TyMbeDWw471QLn0pXqXZ7RVY",
      "include_colab_link": true
    },
    "kernelspec": {
      "name": "python3",
      "display_name": "Python 3"
    },
    "language_info": {
      "name": "python"
    }
  },
  "cells": [
    {
      "cell_type": "markdown",
      "metadata": {
        "id": "view-in-github",
        "colab_type": "text"
      },
      "source": [
        "<a href=\"https://colab.research.google.com/github/Priyo-prog/Statistics-and-Data-Science/blob/main/Feature%20Selection%20Complete/Filter%20Methods/anova_test.ipynb\" target=\"_parent\"><img src=\"https://colab.research.google.com/assets/colab-badge.svg\" alt=\"Open In Colab\"/></a>"
      ]
    },
    {
      "cell_type": "markdown",
      "source": [
        "# **Univariate feature selection**\n",
        "\n",
        "Univariate feature selection works by selecting the best features based on univariate statistical tests (ANOVA). The methods estimate the degree of linear dependency between two random variables. In this case, any of the predictor variables and the target.\n",
        "\n",
        "ANOVA assumes a linear relationship between the feature and the target and that the variables follow a Gaussian distribution. If this is not true, the result of this test may not be useful.\n",
        "\n",
        "These may not always be the case for the variables in your dataset, so if looking to implement these procedure, you will need to corroborate these assumptions.\n",
        "\n",
        "I will demonstrate how to select features based on univariate tests using sklearn with a regression and classification dataset.\n",
        "\n",
        "For the sake of the demonstration, I will assume that the variables show a linear relationship with the target and that they are normally distributed."
      ],
      "metadata": {
        "id": "vZO14B4JrieS"
      }
    },
    {
      "cell_type": "code",
      "source": [],
      "metadata": {
        "id": "MTTbqzxmsDbF"
      },
      "execution_count": null,
      "outputs": []
    }
  ]
}