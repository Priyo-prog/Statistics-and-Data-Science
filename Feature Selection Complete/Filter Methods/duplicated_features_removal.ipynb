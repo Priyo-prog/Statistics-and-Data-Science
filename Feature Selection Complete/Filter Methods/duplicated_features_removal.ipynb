{
  "nbformat": 4,
  "nbformat_minor": 0,
  "metadata": {
    "colab": {
      "provenance": [],
      "authorship_tag": "ABX9TyMIvjRRgKQ2frAcZx0Mgp8M",
      "include_colab_link": true
    },
    "kernelspec": {
      "name": "python3",
      "display_name": "Python 3"
    },
    "language_info": {
      "name": "python"
    }
  },
  "cells": [
    {
      "cell_type": "markdown",
      "metadata": {
        "id": "view-in-github",
        "colab_type": "text"
      },
      "source": [
        "<a href=\"https://colab.research.google.com/github/Priyo-prog/Statistics-and-Data-Science/blob/main/Feature%20Selection%20Complete/Filter%20Methods/duplicated_features_removal.ipynb\" target=\"_parent\"><img src=\"https://colab.research.google.com/assets/colab-badge.svg\" alt=\"Open In Colab\"/></a>"
      ]
    },
    {
      "cell_type": "markdown",
      "source": [
        "# **Remove Duplicated Features**\n"
      ],
      "metadata": {
        "id": "V_2Mp0NihEB8"
      }
    },
    {
      "cell_type": "code",
      "source": [],
      "metadata": {
        "id": "PTIcFMLshQ6F"
      },
      "execution_count": null,
      "outputs": []
    }
  ]
}