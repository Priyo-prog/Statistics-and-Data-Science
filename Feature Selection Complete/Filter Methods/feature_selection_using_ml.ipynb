{
  "nbformat": 4,
  "nbformat_minor": 0,
  "metadata": {
    "colab": {
      "provenance": [],
      "authorship_tag": "ABX9TyO2S0fMsr0wxaVdE6qt1cEC",
      "include_colab_link": true
    },
    "kernelspec": {
      "name": "python3",
      "display_name": "Python 3"
    },
    "language_info": {
      "name": "python"
    }
  },
  "cells": [
    {
      "cell_type": "markdown",
      "metadata": {
        "id": "view-in-github",
        "colab_type": "text"
      },
      "source": [
        "<a href=\"https://colab.research.google.com/github/Priyo-prog/Statistics-and-Data-Science/blob/main/Feature%20Selection%20Complete/Filter%20Methods/feature_selection_using_ml.ipynb\" target=\"_parent\"><img src=\"https://colab.research.google.com/assets/colab-badge.svg\" alt=\"Open In Colab\"/></a>"
      ]
    },
    {
      "cell_type": "markdown",
      "source": [
        "# **Feature Selction using ML**\n",
        "\n",
        "Univariate roc-auc or mse (or any other metric really)\n",
        "This procedure works as follows:\n",
        "\n",
        "First, it builds one decision tree per feature, to predict the target\n",
        "Second, it makes predictions using the decision tree and the mentioned feature\n",
        "Third, it measures the performance of that prediction, be it the roc-auc, the mse, or any other metric\n",
        "Fourth, it ranks the features according to the machine learning metric (roc-auc or mse)\n",
        "It selects the highest ranking features\n",
        "Here, I will demonstrate how to select features based on univariate roc-auc or univariate mse.\n",
        "\n",
        "We can use any ML model for this method."
      ],
      "metadata": {
        "id": "nqvxq4nXEuDE"
      }
    },
    {
      "cell_type": "code",
      "source": [
        "import pandas as pd\n",
        "import numpy as np\n",
        "import matplotlib.pyplot as plt\n",
        "from sklearn.model_selection import train_test_split\n",
        "from sklearn.tree import DecisionTreeClassifier, DecisionTreeRegressor\n",
        "from sklearn.metrics import roc_auc_score, mean_squared_error"
      ],
      "metadata": {
        "id": "FidYoYmRE_KW"
      },
      "execution_count": 1,
      "outputs": []
    },
    {
      "cell_type": "code",
      "source": [
        "# Mount the Google Drive\n",
        "from google.colab import drive\n",
        "drive.mount(\"/content/drive\")"
      ],
      "metadata": {
        "colab": {
          "base_uri": "https://localhost:8080/"
        },
        "id": "AYu3tEy_GuC5",
        "outputId": "cd8d1bf0-c4dc-4583-ce1f-12cd8d26a3a1"
      },
      "execution_count": 2,
      "outputs": [
        {
          "output_type": "stream",
          "name": "stdout",
          "text": [
            "Mounted at /content/drive\n"
          ]
        }
      ]
    },
    {
      "cell_type": "code",
      "source": [
        "filename = \"/content/drive/MyDrive/Data Science/Feature Selection/dataset_2.csv\""
      ],
      "metadata": {
        "id": "_AcYZVlnHNIn"
      },
      "execution_count": 3,
      "outputs": []
    },
    {
      "cell_type": "code",
      "source": [
        "# Import the dataset\n",
        "df = pd.read_csv(filename)\n",
        "df.head()"
      ],
      "metadata": {
        "colab": {
          "base_uri": "https://localhost:8080/",
          "height": 236
        },
        "id": "MK-T4bfhHn1f",
        "outputId": "b1537df6-0353-43cb-c04f-4769256242d5"
      },
      "execution_count": 4,
      "outputs": [
        {
          "output_type": "execute_result",
          "data": {
            "text/plain": [
              "      var_1      var_2      var_3     var_4     var_5     var_6     var_7  \\\n",
              "0  4.532710   3.280834  17.982476  4.404259  2.349910  0.603264  2.784655   \n",
              "1  5.821374  12.098722  13.309151  4.125599  1.045386  1.832035  1.833494   \n",
              "2  1.938776   7.952752   0.972671  3.459267  1.935782  0.621463  2.338139   \n",
              "3  6.020690   9.900544  17.869637  4.366715  1.973693  2.026012  2.853025   \n",
              "4  3.909506  10.576516   0.934191  3.419572  1.871438  3.340811  1.868282   \n",
              "\n",
              "      var_8      var_9     var_10  ...   var_100   var_101   var_102  \\\n",
              "0  0.323146  12.009691   0.139346  ...  2.079066  6.748819  2.941445   \n",
              "1  0.709090   8.652883   0.102757  ...  2.479789  7.795290  3.557890   \n",
              "2  0.344948   9.937850  11.691283  ...  1.861487  6.130886  3.401064   \n",
              "3  0.674847  11.816859   0.011151  ...  1.340944  7.240058  2.417235   \n",
              "4  0.439865  13.585620   1.153366  ...  2.738095  6.565509  4.341414   \n",
              "\n",
              "     var_103    var_104   var_105   var_106   var_107   var_108   var_109  \n",
              "0  18.360496  17.726613  7.774031  1.473441  1.973832  0.976806  2.541417  \n",
              "1  17.383378  15.193423  8.263673  1.878108  0.567939  1.018818  1.416433  \n",
              "2  15.850471  14.620599  6.849776  1.098210  1.959183  1.575493  1.857893  \n",
              "3  15.194609  13.553772  7.229971  0.835158  2.234482  0.946170  2.700606  \n",
              "4  15.893832  11.929787  6.954033  1.853364  0.511027  2.599562  0.811364  \n",
              "\n",
              "[5 rows x 109 columns]"
            ],
            "text/html": [
              "\n",
              "\n",
              "  <div id=\"df-49142edc-acad-4535-8879-fe6fc3e8bdca\">\n",
              "    <div class=\"colab-df-container\">\n",
              "      <div>\n",
              "<style scoped>\n",
              "    .dataframe tbody tr th:only-of-type {\n",
              "        vertical-align: middle;\n",
              "    }\n",
              "\n",
              "    .dataframe tbody tr th {\n",
              "        vertical-align: top;\n",
              "    }\n",
              "\n",
              "    .dataframe thead th {\n",
              "        text-align: right;\n",
              "    }\n",
              "</style>\n",
              "<table border=\"1\" class=\"dataframe\">\n",
              "  <thead>\n",
              "    <tr style=\"text-align: right;\">\n",
              "      <th></th>\n",
              "      <th>var_1</th>\n",
              "      <th>var_2</th>\n",
              "      <th>var_3</th>\n",
              "      <th>var_4</th>\n",
              "      <th>var_5</th>\n",
              "      <th>var_6</th>\n",
              "      <th>var_7</th>\n",
              "      <th>var_8</th>\n",
              "      <th>var_9</th>\n",
              "      <th>var_10</th>\n",
              "      <th>...</th>\n",
              "      <th>var_100</th>\n",
              "      <th>var_101</th>\n",
              "      <th>var_102</th>\n",
              "      <th>var_103</th>\n",
              "      <th>var_104</th>\n",
              "      <th>var_105</th>\n",
              "      <th>var_106</th>\n",
              "      <th>var_107</th>\n",
              "      <th>var_108</th>\n",
              "      <th>var_109</th>\n",
              "    </tr>\n",
              "  </thead>\n",
              "  <tbody>\n",
              "    <tr>\n",
              "      <th>0</th>\n",
              "      <td>4.532710</td>\n",
              "      <td>3.280834</td>\n",
              "      <td>17.982476</td>\n",
              "      <td>4.404259</td>\n",
              "      <td>2.349910</td>\n",
              "      <td>0.603264</td>\n",
              "      <td>2.784655</td>\n",
              "      <td>0.323146</td>\n",
              "      <td>12.009691</td>\n",
              "      <td>0.139346</td>\n",
              "      <td>...</td>\n",
              "      <td>2.079066</td>\n",
              "      <td>6.748819</td>\n",
              "      <td>2.941445</td>\n",
              "      <td>18.360496</td>\n",
              "      <td>17.726613</td>\n",
              "      <td>7.774031</td>\n",
              "      <td>1.473441</td>\n",
              "      <td>1.973832</td>\n",
              "      <td>0.976806</td>\n",
              "      <td>2.541417</td>\n",
              "    </tr>\n",
              "    <tr>\n",
              "      <th>1</th>\n",
              "      <td>5.821374</td>\n",
              "      <td>12.098722</td>\n",
              "      <td>13.309151</td>\n",
              "      <td>4.125599</td>\n",
              "      <td>1.045386</td>\n",
              "      <td>1.832035</td>\n",
              "      <td>1.833494</td>\n",
              "      <td>0.709090</td>\n",
              "      <td>8.652883</td>\n",
              "      <td>0.102757</td>\n",
              "      <td>...</td>\n",
              "      <td>2.479789</td>\n",
              "      <td>7.795290</td>\n",
              "      <td>3.557890</td>\n",
              "      <td>17.383378</td>\n",
              "      <td>15.193423</td>\n",
              "      <td>8.263673</td>\n",
              "      <td>1.878108</td>\n",
              "      <td>0.567939</td>\n",
              "      <td>1.018818</td>\n",
              "      <td>1.416433</td>\n",
              "    </tr>\n",
              "    <tr>\n",
              "      <th>2</th>\n",
              "      <td>1.938776</td>\n",
              "      <td>7.952752</td>\n",
              "      <td>0.972671</td>\n",
              "      <td>3.459267</td>\n",
              "      <td>1.935782</td>\n",
              "      <td>0.621463</td>\n",
              "      <td>2.338139</td>\n",
              "      <td>0.344948</td>\n",
              "      <td>9.937850</td>\n",
              "      <td>11.691283</td>\n",
              "      <td>...</td>\n",
              "      <td>1.861487</td>\n",
              "      <td>6.130886</td>\n",
              "      <td>3.401064</td>\n",
              "      <td>15.850471</td>\n",
              "      <td>14.620599</td>\n",
              "      <td>6.849776</td>\n",
              "      <td>1.098210</td>\n",
              "      <td>1.959183</td>\n",
              "      <td>1.575493</td>\n",
              "      <td>1.857893</td>\n",
              "    </tr>\n",
              "    <tr>\n",
              "      <th>3</th>\n",
              "      <td>6.020690</td>\n",
              "      <td>9.900544</td>\n",
              "      <td>17.869637</td>\n",
              "      <td>4.366715</td>\n",
              "      <td>1.973693</td>\n",
              "      <td>2.026012</td>\n",
              "      <td>2.853025</td>\n",
              "      <td>0.674847</td>\n",
              "      <td>11.816859</td>\n",
              "      <td>0.011151</td>\n",
              "      <td>...</td>\n",
              "      <td>1.340944</td>\n",
              "      <td>7.240058</td>\n",
              "      <td>2.417235</td>\n",
              "      <td>15.194609</td>\n",
              "      <td>13.553772</td>\n",
              "      <td>7.229971</td>\n",
              "      <td>0.835158</td>\n",
              "      <td>2.234482</td>\n",
              "      <td>0.946170</td>\n",
              "      <td>2.700606</td>\n",
              "    </tr>\n",
              "    <tr>\n",
              "      <th>4</th>\n",
              "      <td>3.909506</td>\n",
              "      <td>10.576516</td>\n",
              "      <td>0.934191</td>\n",
              "      <td>3.419572</td>\n",
              "      <td>1.871438</td>\n",
              "      <td>3.340811</td>\n",
              "      <td>1.868282</td>\n",
              "      <td>0.439865</td>\n",
              "      <td>13.585620</td>\n",
              "      <td>1.153366</td>\n",
              "      <td>...</td>\n",
              "      <td>2.738095</td>\n",
              "      <td>6.565509</td>\n",
              "      <td>4.341414</td>\n",
              "      <td>15.893832</td>\n",
              "      <td>11.929787</td>\n",
              "      <td>6.954033</td>\n",
              "      <td>1.853364</td>\n",
              "      <td>0.511027</td>\n",
              "      <td>2.599562</td>\n",
              "      <td>0.811364</td>\n",
              "    </tr>\n",
              "  </tbody>\n",
              "</table>\n",
              "<p>5 rows × 109 columns</p>\n",
              "</div>\n",
              "      <button class=\"colab-df-convert\" onclick=\"convertToInteractive('df-49142edc-acad-4535-8879-fe6fc3e8bdca')\"\n",
              "              title=\"Convert this dataframe to an interactive table.\"\n",
              "              style=\"display:none;\">\n",
              "\n",
              "  <svg xmlns=\"http://www.w3.org/2000/svg\" height=\"24px\"viewBox=\"0 0 24 24\"\n",
              "       width=\"24px\">\n",
              "    <path d=\"M0 0h24v24H0V0z\" fill=\"none\"/>\n",
              "    <path d=\"M18.56 5.44l.94 2.06.94-2.06 2.06-.94-2.06-.94-.94-2.06-.94 2.06-2.06.94zm-11 1L8.5 8.5l.94-2.06 2.06-.94-2.06-.94L8.5 2.5l-.94 2.06-2.06.94zm10 10l.94 2.06.94-2.06 2.06-.94-2.06-.94-.94-2.06-.94 2.06-2.06.94z\"/><path d=\"M17.41 7.96l-1.37-1.37c-.4-.4-.92-.59-1.43-.59-.52 0-1.04.2-1.43.59L10.3 9.45l-7.72 7.72c-.78.78-.78 2.05 0 2.83L4 21.41c.39.39.9.59 1.41.59.51 0 1.02-.2 1.41-.59l7.78-7.78 2.81-2.81c.8-.78.8-2.07 0-2.86zM5.41 20L4 18.59l7.72-7.72 1.47 1.35L5.41 20z\"/>\n",
              "  </svg>\n",
              "      </button>\n",
              "\n",
              "\n",
              "\n",
              "    <div id=\"df-e8a7b86f-0442-40a0-8b28-8e3d32371ad6\">\n",
              "      <button class=\"colab-df-quickchart\" onclick=\"quickchart('df-e8a7b86f-0442-40a0-8b28-8e3d32371ad6')\"\n",
              "              title=\"Suggest charts.\"\n",
              "              style=\"display:none;\">\n",
              "\n",
              "<svg xmlns=\"http://www.w3.org/2000/svg\" height=\"24px\"viewBox=\"0 0 24 24\"\n",
              "     width=\"24px\">\n",
              "    <g>\n",
              "        <path d=\"M19 3H5c-1.1 0-2 .9-2 2v14c0 1.1.9 2 2 2h14c1.1 0 2-.9 2-2V5c0-1.1-.9-2-2-2zM9 17H7v-7h2v7zm4 0h-2V7h2v10zm4 0h-2v-4h2v4z\"/>\n",
              "    </g>\n",
              "</svg>\n",
              "      </button>\n",
              "    </div>\n",
              "\n",
              "<style>\n",
              "  .colab-df-quickchart {\n",
              "    background-color: #E8F0FE;\n",
              "    border: none;\n",
              "    border-radius: 50%;\n",
              "    cursor: pointer;\n",
              "    display: none;\n",
              "    fill: #1967D2;\n",
              "    height: 32px;\n",
              "    padding: 0 0 0 0;\n",
              "    width: 32px;\n",
              "  }\n",
              "\n",
              "  .colab-df-quickchart:hover {\n",
              "    background-color: #E2EBFA;\n",
              "    box-shadow: 0px 1px 2px rgba(60, 64, 67, 0.3), 0px 1px 3px 1px rgba(60, 64, 67, 0.15);\n",
              "    fill: #174EA6;\n",
              "  }\n",
              "\n",
              "  [theme=dark] .colab-df-quickchart {\n",
              "    background-color: #3B4455;\n",
              "    fill: #D2E3FC;\n",
              "  }\n",
              "\n",
              "  [theme=dark] .colab-df-quickchart:hover {\n",
              "    background-color: #434B5C;\n",
              "    box-shadow: 0px 1px 3px 1px rgba(0, 0, 0, 0.15);\n",
              "    filter: drop-shadow(0px 1px 2px rgba(0, 0, 0, 0.3));\n",
              "    fill: #FFFFFF;\n",
              "  }\n",
              "</style>\n",
              "\n",
              "    <script>\n",
              "      async function quickchart(key) {\n",
              "        const containerElement = document.querySelector('#' + key);\n",
              "        const charts = await google.colab.kernel.invokeFunction(\n",
              "            'suggestCharts', [key], {});\n",
              "      }\n",
              "    </script>\n",
              "\n",
              "      <script>\n",
              "\n",
              "function displayQuickchartButton(domScope) {\n",
              "  let quickchartButtonEl =\n",
              "    domScope.querySelector('#df-e8a7b86f-0442-40a0-8b28-8e3d32371ad6 button.colab-df-quickchart');\n",
              "  quickchartButtonEl.style.display =\n",
              "    google.colab.kernel.accessAllowed ? 'block' : 'none';\n",
              "}\n",
              "\n",
              "        displayQuickchartButton(document);\n",
              "      </script>\n",
              "      <style>\n",
              "    .colab-df-container {\n",
              "      display:flex;\n",
              "      flex-wrap:wrap;\n",
              "      gap: 12px;\n",
              "    }\n",
              "\n",
              "    .colab-df-convert {\n",
              "      background-color: #E8F0FE;\n",
              "      border: none;\n",
              "      border-radius: 50%;\n",
              "      cursor: pointer;\n",
              "      display: none;\n",
              "      fill: #1967D2;\n",
              "      height: 32px;\n",
              "      padding: 0 0 0 0;\n",
              "      width: 32px;\n",
              "    }\n",
              "\n",
              "    .colab-df-convert:hover {\n",
              "      background-color: #E2EBFA;\n",
              "      box-shadow: 0px 1px 2px rgba(60, 64, 67, 0.3), 0px 1px 3px 1px rgba(60, 64, 67, 0.15);\n",
              "      fill: #174EA6;\n",
              "    }\n",
              "\n",
              "    [theme=dark] .colab-df-convert {\n",
              "      background-color: #3B4455;\n",
              "      fill: #D2E3FC;\n",
              "    }\n",
              "\n",
              "    [theme=dark] .colab-df-convert:hover {\n",
              "      background-color: #434B5C;\n",
              "      box-shadow: 0px 1px 3px 1px rgba(0, 0, 0, 0.15);\n",
              "      filter: drop-shadow(0px 1px 2px rgba(0, 0, 0, 0.3));\n",
              "      fill: #FFFFFF;\n",
              "    }\n",
              "  </style>\n",
              "\n",
              "      <script>\n",
              "        const buttonEl =\n",
              "          document.querySelector('#df-49142edc-acad-4535-8879-fe6fc3e8bdca button.colab-df-convert');\n",
              "        buttonEl.style.display =\n",
              "          google.colab.kernel.accessAllowed ? 'block' : 'none';\n",
              "\n",
              "        async function convertToInteractive(key) {\n",
              "          const element = document.querySelector('#df-49142edc-acad-4535-8879-fe6fc3e8bdca');\n",
              "          const dataTable =\n",
              "            await google.colab.kernel.invokeFunction('convertToInteractive',\n",
              "                                                     [key], {});\n",
              "          if (!dataTable) return;\n",
              "\n",
              "          const docLinkHtml = 'Like what you see? Visit the ' +\n",
              "            '<a target=\"_blank\" href=https://colab.research.google.com/notebooks/data_table.ipynb>data table notebook</a>'\n",
              "            + ' to learn more about interactive tables.';\n",
              "          element.innerHTML = '';\n",
              "          dataTable['output_type'] = 'display_data';\n",
              "          await google.colab.output.renderOutput(dataTable, element);\n",
              "          const docLink = document.createElement('div');\n",
              "          docLink.innerHTML = docLinkHtml;\n",
              "          element.appendChild(docLink);\n",
              "        }\n",
              "      </script>\n",
              "    </div>\n",
              "  </div>\n"
            ]
          },
          "metadata": {},
          "execution_count": 4
        }
      ]
    },
    {
      "cell_type": "code",
      "source": [
        "# Separate the data features and labels\n",
        "X = df.drop(labels=\"target\", axis=1)\n",
        "y = df[\"target\"]"
      ],
      "metadata": {
        "id": "fHrNcOloHtkw"
      },
      "execution_count": 5,
      "outputs": []
    },
    {
      "cell_type": "code",
      "source": [
        "# Separate the data in training and testing set\n",
        "X_train, X_test, y_train, y_test = train_test_split(X,y, test_size=0.3, random_state=0)\n",
        "X_train.shape, X_test.shape"
      ],
      "metadata": {
        "id": "_K8RhkMQ-Oqb",
        "outputId": "4820d709-cbdc-4fc3-cb9d-01b5ac79d7e2",
        "colab": {
          "base_uri": "https://localhost:8080/"
        }
      },
      "execution_count": 6,
      "outputs": [
        {
          "output_type": "execute_result",
          "data": {
            "text/plain": [
              "((35000, 108), (15000, 108))"
            ]
          },
          "metadata": {},
          "execution_count": 6
        }
      ]
    },
    {
      "cell_type": "markdown",
      "source": [
        "## **Determine Univariate roc-auc**"
      ],
      "metadata": {
        "id": "adsrdNMS-3s3"
      }
    },
    {
      "cell_type": "code",
      "source": [
        "roc_values = []\n",
        "\n",
        "clf = DecisionTreeClassifier()\n",
        "\n",
        "\n",
        "for feature in X_train.columns:\n",
        "  clf.fit(X_train[feature].fillna(0).to_frame(), y_train)\n",
        "\n",
        "  y_scored = clf.predict_proba(X_test[feature].to_frame())\n",
        "\n",
        "  roc_values.append(roc_auc_score(y_test, y_scored[:, 1]))\n",
        "\n",
        "roc_values[0:10]"
      ],
      "metadata": {
        "id": "tzBXq4Eg_JBH",
        "outputId": "42b15c42-54e0-4ca3-fe4c-a89cb5aef694",
        "colab": {
          "base_uri": "https://localhost:8080/"
        }
      },
      "execution_count": 8,
      "outputs": [
        {
          "output_type": "execute_result",
          "data": {
            "text/plain": [
              "[0.5069248231292061,\n",
              " 0.5006908738145861,\n",
              " 0.4931445654646017,\n",
              " 0.5039101753068067,\n",
              " 0.5014351366034588,\n",
              " 0.5028347252717772,\n",
              " 0.5095234564543892,\n",
              " 0.5062626193645395,\n",
              " 0.4913455716601861,\n",
              " 0.5066196352647712]"
            ]
          },
          "metadata": {},
          "execution_count": 8
        }
      ]
    },
    {
      "cell_type": "code",
      "source": [
        "roc_values = pd.Series(roc_values)\n",
        "roc_values.index = X_train.columns\n",
        "roc_values.sort_values(ascending=True)\n",
        "roc_values[0:10]"
      ],
      "metadata": {
        "id": "tzacPRNpBVqW",
        "outputId": "8fba9ab2-709e-4f37-f83d-b9b547015525",
        "colab": {
          "base_uri": "https://localhost:8080/"
        }
      },
      "execution_count": 9,
      "outputs": [
        {
          "output_type": "execute_result",
          "data": {
            "text/plain": [
              "var_1     0.506925\n",
              "var_2     0.500691\n",
              "var_3     0.493145\n",
              "var_4     0.503910\n",
              "var_5     0.501435\n",
              "var_6     0.502835\n",
              "var_7     0.509523\n",
              "var_8     0.506263\n",
              "var_9     0.491346\n",
              "var_10    0.506620\n",
              "dtype: float64"
            ]
          },
          "metadata": {},
          "execution_count": 9
        }
      ]
    },
    {
      "cell_type": "code",
      "source": [
        "# Let's plot\n",
        "roc_values.sort_values(ascending=False).plot.bar(figsize=(20,8))"
      ],
      "metadata": {
        "id": "Fu6hSQqrJbgu",
        "outputId": "76ab453b-8fc7-41e5-d89f-ed155f233a2f",
        "colab": {
          "base_uri": "https://localhost:8080/",
          "height": 735
        }
      },
      "execution_count": 11,
      "outputs": [
        {
          "output_type": "execute_result",
          "data": {
            "text/plain": [
              "<Axes: >"
            ]
          },
          "metadata": {},
          "execution_count": 11
        },
        {
          "output_type": "display_data",
          "data": {
            "text/plain": [
              "<Figure size 2000x800 with 1 Axes>"
            ],
            "image/png": "[encoded data removed]"
          },
          "metadata": {}
        }
      ]
    },
    {
      "cell_type": "code",
      "source": [],
      "metadata": {
        "id": "8NIQjxMiKGCn"
      },
      "execution_count": null,
      "outputs": []
    }
  ]
}