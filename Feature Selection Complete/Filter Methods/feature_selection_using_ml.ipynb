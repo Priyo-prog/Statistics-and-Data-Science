{
  "nbformat": 4,
  "nbformat_minor": 0,
  "metadata": {
    "colab": {
      "provenance": [],
      "authorship_tag": "ABX9TyN3BfrAOXHtpViJpcP+q/lZ",
      "include_colab_link": true
    },
    "kernelspec": {
      "name": "python3",
      "display_name": "Python 3"
    },
    "language_info": {
      "name": "python"
    }
  },
  "cells": [
    {
      "cell_type": "markdown",
      "metadata": {
        "id": "view-in-github",
        "colab_type": "text"
      },
      "source": [
        "<a href=\"https://colab.research.google.com/github/Priyo-prog/Statistics-and-Data-Science/blob/main/Feature%20Selection%20Complete/Filter%20Methods/feature_selection_using_ml.ipynb\" target=\"_parent\"><img src=\"https://colab.research.google.com/assets/colab-badge.svg\" alt=\"Open In Colab\"/></a>"
      ]
    },
    {
      "cell_type": "markdown",
      "source": [
        "# **Feature Selction using ML**\n",
        "\n",
        "Univariate roc-auc or mse (or any other metric really)\n",
        "This procedure works as follows:\n",
        "\n",
        "First, it builds one decision tree per feature, to predict the target\n",
        "Second, it makes predictions using the decision tree and the mentioned feature\n",
        "Third, it measures the performance of that prediction, be it the roc-auc, the mse, or any other metric\n",
        "Fourth, it ranks the features according to the machine learning metric (roc-auc or mse)\n",
        "It selects the highest ranking features\n",
        "Here, I will demonstrate how to select features based on univariate roc-auc or univariate mse."
      ],
      "metadata": {
        "id": "nqvxq4nXEuDE"
      }
    },
    {
      "cell_type": "code",
      "source": [],
      "metadata": {
        "id": "FidYoYmRE_KW"
      },
      "execution_count": null,
      "outputs": []
    }
  ]
}