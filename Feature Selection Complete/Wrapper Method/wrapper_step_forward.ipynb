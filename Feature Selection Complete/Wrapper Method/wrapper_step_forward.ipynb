{
  "nbformat": 4,
  "nbformat_minor": 0,
  "metadata": {
    "colab": {
      "provenance": [],
      "authorship_tag": "ABX9TyNl3t4jKgIHHdv4BiFj/ogZ",
      "include_colab_link": true
    },
    "kernelspec": {
      "name": "python3",
      "display_name": "Python 3"
    },
    "language_info": {
      "name": "python"
    }
  },
  "cells": [
    {
      "cell_type": "markdown",
      "metadata": {
        "id": "view-in-github",
        "colab_type": "text"
      },
      "source": [
        "<a href=\"https://colab.research.google.com/github/Priyo-prog/Statistics-and-Data-Science/blob/main/Feature%20Selection%20Complete/Wrapper%20Method/wrapper_step_forward.ipynb\" target=\"_parent\"><img src=\"https://colab.research.google.com/assets/colab-badge.svg\" alt=\"Open In Colab\"/></a>"
      ]
    },
    {
      "cell_type": "markdown",
      "source": [
        "## **Step forward feature selection**\n",
        "Step forward feature selection starts by training a machine learning model for each feature in the dataset and selecting, as the starting feature, the one that returns the best performing model according to the evaluation criteria we choose.\n",
        "\n",
        "In the second step, it creates machine learning models for all combinations of the feature selected in the previous step and a second feature. It selects the pair that produces the best performing algorithm.\n",
        "\n",
        "It continues by adding 1 feature at a time to the features that were selected in previous steps, until a stopping criteria is reached.\n",
        "\n",
        "In theory, models with more features perform better. The algorithm will continue adding new features until a certain criteria is met. For example, until the model performance does not increase beyond a certain threshold. Or, as we show in this notebook, until a certain number of features are selected.\n",
        "\n",
        "The model performance metric can be the roc_auc for classification and the r squared for regression, for example, and it is determined by the user.\n",
        "\n",
        "Step forward feature selection is called a greedy procedure because it evaluates many possible single, double, triple, and so on feature combinations. Therefore, it is very computationally expensive and, sometimes, if the feature space is big enough, even unfeasible.\n",
        "\n",
        "There is a special package in Python that implements this type of feature selection: mlxtend.\n",
        "\n",
        "In the mlxtend implementation of the Step Forward Feature Selection, the original stopping criteria is an arbitrarily set number of features. So the search will finish when we reach the desired number of selected features.\n",
        "\n",
        "This is somewhat arbitrary, we might be selecting a sub-optimal number of features, or likewise, a high number of features. But, by looking at the performance metric returned by the algorithm as it selects the features, we can have a view on whether more features do add value, or not.\n",
        "\n",
        "**Note**\n",
        "\n",
        "In latest releases, MLXtend incorporated alternative stopping criterias. Visit the documentation for more details.\n",
        "\n",
        "Here I will use the Step Forward feature selection algorithm from MLXtend in a classification and regression dataset."
      ],
      "metadata": {
        "id": "wy5FYHQPCED-"
      }
    },
    {
      "cell_type": "code",
      "source": [
        "# Import important libraries\n",
        "import pandas as pd\n",
        "import numpy as np\n",
        "from sklearn.model_selection import train_test_split\n",
        "from sklearn.ensemble import RandomForestClassifier\n",
        "from sklearn.metrics import roc_auc_score, r2_score\n",
        "\n",
        "from sklearn.feature_selection import SequentialFeatureSelector"
      ],
      "metadata": {
        "id": "zFArOiYfD5lm"
      },
      "execution_count": 3,
      "outputs": []
    },
    {
      "cell_type": "code",
      "source": [],
      "metadata": {
        "id": "MboF1jbiEZzW"
      },
      "execution_count": null,
      "outputs": []
    }
  ]
}