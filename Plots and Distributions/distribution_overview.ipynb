{
  "nbformat": 4,
  "nbformat_minor": 0,
  "metadata": {
    "colab": {
      "name": "distribution_overview.ipynb",
      "provenance": [],
      "authorship_tag": "ABX9TyOzAyBLQYEgASPeVha/D89Z",
      "include_colab_link": true
    },
    "kernelspec": {
      "name": "python3",
      "display_name": "Python 3"
    },
    "language_info": {
      "name": "python"
    }
  },
  "cells": [
    {
      "cell_type": "markdown",
      "metadata": {
        "id": "view-in-github",
        "colab_type": "text"
      },
      "source": [
        "<a href=\"https://colab.research.google.com/github/Priyo-prog/Statistics-and-Data-Science/blob/main/Plots%20and%20Distributions/distribution_overview.ipynb\" target=\"_parent\"><img src=\"https://colab.research.google.com/assets/colab-badge.svg\" alt=\"Open In Colab\"/></a>"
      ]
    },
    {
      "cell_type": "markdown",
      "source": [
        "# **Distribution Overview**\n",
        "\n",
        "We can visualize the overview of the data through Histogram, Bee Swarm, Bx plot and Violin plot"
      ],
      "metadata": {
        "id": "N4cS-LB-zOTw"
      }
    },
    {
      "cell_type": "markdown",
      "source": [
        "## Import libraries and packages"
      ],
      "metadata": {
        "id": "76Z80CIW14bh"
      }
    },
    {
      "cell_type": "code",
      "source": [
        "import numpy as np\n",
        "import matplotlib.pyplot as plt\n",
        "import seaborn as sns\n",
        "import pandas as pd"
      ],
      "metadata": {
        "id": "hSe4OfHV18so"
      },
      "execution_count": 2,
      "outputs": []
    },
    {
      "cell_type": "markdown",
      "source": [
        "## Load the data"
      ],
      "metadata": {
        "id": "LLwoPMwR2LbV"
      }
    },
    {
      "cell_type": "code",
      "source": [
        "filename_1 = '/content/drive/MyDrive/Data Science/Statistical Analysis/example_1.txt'\n",
        "filename_2 = '/content/drive/MyDrive/Data Science/Statistical Analysis/example_2.txt'"
      ],
      "metadata": {
        "id": "tXL92F282S5D"
      },
      "execution_count": 5,
      "outputs": []
    },
    {
      "cell_type": "code",
      "source": [
        "## mount the google drive to fetch the data\n",
        "from google.colab import drive\n",
        "drive.mount('/content/drive')"
      ],
      "metadata": {
        "colab": {
          "base_uri": "https://localhost:8080/"
        },
        "id": "FNpWsXf82e2p",
        "outputId": "c67771d1-4933-4936-9982-e46a836391d5"
      },
      "execution_count": 3,
      "outputs": [
        {
          "output_type": "stream",
          "name": "stdout",
          "text": [
            "Mounted at /content/drive\n"
          ]
        }
      ]
    },
    {
      "cell_type": "code",
      "source": [
        "d1 = np.loadtxt(filename_1)\n",
        "d2 = np.loadtxt(filename_2)\n",
        "print(d1.shape, d2.shape)"
      ],
      "metadata": {
        "colab": {
          "base_uri": "https://localhost:8080/"
        },
        "id": "4ODsk7Bo2pgm",
        "outputId": "d4f9dcc1-d9f8-4f8e-bd32-1c4db892e93f"
      },
      "execution_count": 6,
      "outputs": [
        {
          "output_type": "stream",
          "name": "stdout",
          "text": [
            "(500,) (500,)\n"
          ]
        }
      ]
    },
    {
      "cell_type": "markdown",
      "source": [
        "## **Histogram Plots**"
      ],
      "metadata": {
        "id": "ZXWdNyIB1B-N"
      }
    },
    {
      "cell_type": "code",
      "source": [
        "plt.hist(d1, label=\"D1\")\n",
        "plt.hist(d2, label=\"D2\")\n",
        "plt.legend()\n",
        "plt.ylabel(\"Counts\")"
      ],
      "metadata": {
        "colab": {
          "base_uri": "https://localhost:8080/",
          "height": 282
        },
        "id": "ItsqAq_g1foP",
        "outputId": "be1c4ffd-a8b0-4940-fd86-76588a0348d9"
      },
      "execution_count": 8,
      "outputs": [
        {
          "output_type": "execute_result",
          "data": {
            "text/plain": [
              "Text(0, 0.5, 'Counts')"
            ]
          },
          "metadata": {},
          "execution_count": 8
        },
        {
          "output_type": "display_data",
          "data": {
            "text/plain": [
              "<Figure size 432x288 with 1 Axes>"
            ],
            "image/png": "[encoded data removed]"
          },
          "metadata": {
            "needs_background": "light"
          }
        }
      ]
    },
    {
      "cell_type": "code",
      "source": [
        "counts1, bins, _ = plt.hist(d1, bins=10, label=\"D1\")\n",
        "plt.hist(d2, bins=bins, label=\"D2\")\n",
        "plt.legend()\n",
        "plt.ylabel(\"Counts\")"
      ],
      "metadata": {
        "colab": {
          "base_uri": "https://localhost:8080/",
          "height": 282
        },
        "id": "BQKEy_Jp3QRj",
        "outputId": "7dfe27e3-cbba-4758-cd99-e2e54a5e7339"
      },
      "execution_count": 9,
      "outputs": [
        {
          "output_type": "execute_result",
          "data": {
            "text/plain": [
              "Text(0, 0.5, 'Counts')"
            ]
          },
          "metadata": {},
          "execution_count": 9
        },
        {
          "output_type": "display_data",
          "data": {
            "text/plain": [
              "<Figure size 432x288 with 1 Axes>"
            ],
            "image/png": "[encoded data removed]"
          },
          "metadata": {
            "needs_background": "light"
          }
        }
      ]
    },
    {
      "cell_type": "code",
      "source": [],
      "metadata": {
        "id": "prs-nz3n4YaU"
      },
      "execution_count": null,
      "outputs": []
    }
  ]
}