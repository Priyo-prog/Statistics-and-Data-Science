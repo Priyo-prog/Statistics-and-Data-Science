{
  "nbformat": 4,
  "nbformat_minor": 0,
  "metadata": {
    "colab": {
      "name": "distribution_overview.ipynb",
      "provenance": [],
      "authorship_tag": "ABX9TyMo8PADiWdYf1HBE7blAQeL",
      "include_colab_link": true
    },
    "kernelspec": {
      "name": "python3",
      "display_name": "Python 3"
    },
    "language_info": {
      "name": "python"
    }
  },
  "cells": [
    {
      "cell_type": "markdown",
      "metadata": {
        "id": "view-in-github",
        "colab_type": "text"
      },
      "source": [
        "<a href=\"https://colab.research.google.com/github/Priyo-prog/Statistics-and-Data-Science/blob/main/Plots%20and%20Distributions/distribution_overview.ipynb\" target=\"_parent\"><img src=\"https://colab.research.google.com/assets/colab-badge.svg\" alt=\"Open In Colab\"/></a>"
      ]
    },
    {
      "cell_type": "markdown",
      "source": [
        "# **Distribution Overview**\n",
        "\n",
        "We can visualize the overview of the data through Histogram, Bee Swarm, Bx plot and Violin plot"
      ],
      "metadata": {
        "id": "N4cS-LB-zOTw"
      }
    },
    {
      "cell_type": "markdown",
      "source": [
        "## Import libraries and packages"
      ],
      "metadata": {
        "id": "76Z80CIW14bh"
      }
    },
    {
      "cell_type": "code",
      "source": [
        "import numpy as np\n",
        "import matplotlib.pyplot as plt\n",
        "import seaborn as sns\n",
        "import pandas as pd"
      ],
      "metadata": {
        "id": "hSe4OfHV18so"
      },
      "execution_count": 1,
      "outputs": []
    },
    {
      "cell_type": "markdown",
      "source": [
        "## Load the data"
      ],
      "metadata": {
        "id": "LLwoPMwR2LbV"
      }
    },
    {
      "cell_type": "code",
      "source": [
        "filename_1 = '/content/drive/MyDrive/Data Science/Statistical Analysis/example_1.txt'\n",
        "filename_2 = '/content/drive/MyDrive/Data Science/Statistical Analysis/example_2.txt'"
      ],
      "metadata": {
        "id": "tXL92F282S5D"
      },
      "execution_count": 2,
      "outputs": []
    },
    {
      "cell_type": "code",
      "source": [
        "## mount the google drive to fetch the data\n",
        "from google.colab import drive\n",
        "drive.mount('/content/drive')"
      ],
      "metadata": {
        "colab": {
          "base_uri": "https://localhost:8080/"
        },
        "id": "FNpWsXf82e2p",
        "outputId": "d3bedcfd-6f56-41f8-e1f7-c6437254de49"
      },
      "execution_count": 3,
      "outputs": [
        {
          "output_type": "stream",
          "name": "stdout",
          "text": [
            "Mounted at /content/drive\n"
          ]
        }
      ]
    },
    {
      "cell_type": "code",
      "source": [
        "d1 = np.loadtxt(filename_1)\n",
        "d2 = np.loadtxt(filename_2)\n",
        "print(d1.shape, d2.shape)"
      ],
      "metadata": {
        "colab": {
          "base_uri": "https://localhost:8080/"
        },
        "id": "4ODsk7Bo2pgm",
        "outputId": "0d39a8d8-c37c-4cde-929f-3516c3cb8044"
      },
      "execution_count": 4,
      "outputs": [
        {
          "output_type": "stream",
          "name": "stdout",
          "text": [
            "(500,) (500,)\n"
          ]
        }
      ]
    },
    {
      "cell_type": "markdown",
      "source": [
        "## **Histogram Plots**"
      ],
      "metadata": {
        "id": "ZXWdNyIB1B-N"
      }
    },
    {
      "cell_type": "code",
      "source": [
        "plt.hist(d1, label=\"D1\")\n",
        "plt.hist(d2, label=\"D2\")\n",
        "plt.legend()\n",
        "plt.ylabel(\"Counts\")"
      ],
      "metadata": {
        "colab": {
          "base_uri": "https://localhost:8080/",
          "height": 282
        },
        "id": "ItsqAq_g1foP",
        "outputId": "5a78249a-0b20-417c-ce14-caee85fc6385"
      },
      "execution_count": 5,
      "outputs": [
        {
          "output_type": "execute_result",
          "data": {
            "text/plain": [
              "Text(0, 0.5, 'Counts')"
            ]
          },
          "metadata": {},
          "execution_count": 5
        },
        {
          "output_type": "display_data",
          "data": {
            "text/plain": [
              "<Figure size 432x288 with 1 Axes>"
            ],
            "image/png": "[encoded data removed]"
          },
          "metadata": {
            "needs_background": "light"
          }
        }
      ]
    },
    {
      "cell_type": "code",
      "source": [
        "counts1, bins, _ = plt.hist(d1, bins=10, label=\"D1\")\n",
        "plt.hist(d2, bins=bins, label=\"D2\")\n",
        "plt.legend()\n",
        "plt.ylabel(\"Counts\")"
      ],
      "metadata": {
        "colab": {
          "base_uri": "https://localhost:8080/",
          "height": 282
        },
        "id": "BQKEy_Jp3QRj",
        "outputId": "2582a204-5561-4578-fde8-515de4b34ecb"
      },
      "execution_count": 6,
      "outputs": [
        {
          "output_type": "execute_result",
          "data": {
            "text/plain": [
              "Text(0, 0.5, 'Counts')"
            ]
          },
          "metadata": {},
          "execution_count": 6
        },
        {
          "output_type": "display_data",
          "data": {
            "text/plain": [
              "<Figure size 432x288 with 1 Axes>"
            ],
            "image/png": "[encoded data removed]"
          },
          "metadata": {
            "needs_background": "light"
          }
        }
      ]
    },
    {
      "cell_type": "code",
      "source": [
        "bins = np.linspace(min(d1.min(), d2.min()), max(d1.max(), d2.max()), 50)\n",
        "counts1, _ , _ = plt.hist(d1, bins=bins, label=\"D1\")\n",
        "plt.hist(d2, bins=bins, label=\"D2\")\n",
        "plt.legend()\n",
        "plt.ylabel(\"Counts\")"
      ],
      "metadata": {
        "id": "prs-nz3n4YaU",
        "colab": {
          "base_uri": "https://localhost:8080/",
          "height": 282
        },
        "outputId": "e79cb27e-13f3-46d7-97c3-d4123ae882a9"
      },
      "execution_count": 7,
      "outputs": [
        {
          "output_type": "execute_result",
          "data": {
            "text/plain": [
              "Text(0, 0.5, 'Counts')"
            ]
          },
          "metadata": {},
          "execution_count": 7
        },
        {
          "output_type": "display_data",
          "data": {
            "text/plain": [
              "<Figure size 432x288 with 1 Axes>"
            ],
            "image/png": "[encoded data removed]"
          },
          "metadata": {
            "needs_background": "light"
          }
        }
      ]
    },
    {
      "cell_type": "code",
      "source": [
        "bins = np.linspace(min(d1.min(), d2.min()), max(d1.max(), d2.max()), 50)\n",
        "counts1, _ , _ = plt.hist(d1, bins=bins, label=\"D1\", density=True)\n",
        "plt.hist(d2, bins=bins, label=\"D2\", density=True)\n",
        "plt.legend()\n",
        "plt.ylabel(\"Probability\")"
      ],
      "metadata": {
        "colab": {
          "base_uri": "https://localhost:8080/",
          "height": 282
        },
        "id": "hVENHl_q6sDH",
        "outputId": "86a0c1b0-91ca-464a-ea16-b83353a9e401"
      },
      "execution_count": 9,
      "outputs": [
        {
          "output_type": "execute_result",
          "data": {
            "text/plain": [
              "Text(0, 0.5, 'Probability')"
            ]
          },
          "metadata": {},
          "execution_count": 9
        },
        {
          "output_type": "display_data",
          "data": {
            "text/plain": [
              "<Figure size 432x288 with 1 Axes>"
            ],
            "image/png": "[encoded data removed]"
          },
          "metadata": {
            "needs_background": "light"
          }
        }
      ]
    },
    {
      "cell_type": "code",
      "source": [
        "bins = np.linspace(min(d1.min(), d2.min()), max(d1.max(), d2.max()), 50)\n",
        "counts1, _ , _ = plt.hist(d1, bins=bins, label=\"D1\", density=True, histtype=\"step\", lw=3)\n",
        "plt.hist(d2, bins=bins, label=\"D2\", density=True, histtype=\"step\", ls=\":\")\n",
        "plt.legend()\n",
        "plt.ylabel(\"Probability\")"
      ],
      "metadata": {
        "colab": {
          "base_uri": "https://localhost:8080/",
          "height": 282
        },
        "id": "Z4UC7Nbw7gNK",
        "outputId": "3483f143-44fd-49d6-fe0d-3d73b8a5d41a"
      },
      "execution_count": 10,
      "outputs": [
        {
          "output_type": "execute_result",
          "data": {
            "text/plain": [
              "Text(0, 0.5, 'Probability')"
            ]
          },
          "metadata": {},
          "execution_count": 10
        },
        {
          "output_type": "display_data",
          "data": {
            "text/plain": [
              "<Figure size 432x288 with 1 Axes>"
            ],
            "image/png": "[encoded data removed]"
          },
          "metadata": {
            "needs_background": "light"
          }
        }
      ]
    },
    {
      "cell_type": "code",
      "source": [],
      "metadata": {
        "id": "AFEV5ze78Y8F"
      },
      "execution_count": null,
      "outputs": []
    }
  ]
}