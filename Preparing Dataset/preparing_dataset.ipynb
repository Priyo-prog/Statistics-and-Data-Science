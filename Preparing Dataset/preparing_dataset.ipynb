{
  "nbformat": 4,
  "nbformat_minor": 0,
  "metadata": {
    "colab": {
      "name": "preparing_dataset.ipynb",
      "provenance": [],
      "authorship_tag": "ABX9TyNDn88q6fH5P1pSUcOutAvH",
      "include_colab_link": true
    },
    "kernelspec": {
      "name": "python3",
      "display_name": "Python 3"
    },
    "language_info": {
      "name": "python"
    }
  },
  "cells": [
    {
      "cell_type": "markdown",
      "metadata": {
        "id": "view-in-github",
        "colab_type": "text"
      },
      "source": [
        "<a href=\"https://colab.research.google.com/github/Priyo-prog/Statistics-and-Data-Science/blob/main/Preparing%20Dataset/preparing_dataset.ipynb\" target=\"_parent\"><img src=\"https://colab.research.google.com/assets/colab-badge.svg\" alt=\"Open In Colab\"/></a>"
      ]
    },
    {
      "cell_type": "markdown",
      "source": [
        "# **Preparing Dataset**\n",
        "\n",
        "* How does the datset handle invalid datset ?\n",
        "* What do we want to do with null values ?\n",
        "* Do we want to summarise, group or filter the data ?"
      ],
      "metadata": {
        "id": "tNUKdfAnnwkW"
      }
    },
    {
      "cell_type": "markdown",
      "source": [
        "## Import libraries and packages"
      ],
      "metadata": {
        "id": "3SZOPYrsoTqi"
      }
    },
    {
      "cell_type": "code",
      "source": [
        "import pandas as pd\n",
        "import numpy as np\n",
        "\n",
        "filename = '/content/drive/MyDrive/Data Science/Statistical Analysis/Diabetes.csv'"
      ],
      "metadata": {
        "id": "mwf6SoFxoZKC"
      },
      "execution_count": 1,
      "outputs": []
    },
    {
      "cell_type": "markdown",
      "source": [
        "## Load dataset"
      ],
      "metadata": {
        "id": "zP6TR4KnopYu"
      }
    },
    {
      "cell_type": "code",
      "source": [
        ""
      ],
      "metadata": {
        "id": "uWnKuEKUotO-"
      },
      "execution_count": null,
      "outputs": []
    }
  ]
}