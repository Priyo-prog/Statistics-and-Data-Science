{
  "nbformat": 4,
  "nbformat_minor": 0,
  "metadata": {
    "colab": {
      "name": "exploratory_data_analysis.ipynb",
      "provenance": [],
      "authorship_tag": "ABX9TyPKDc0T0CmSGbtlXrxwHnmW",
      "include_colab_link": true
    },
    "kernelspec": {
      "name": "python3",
      "display_name": "Python 3"
    },
    "language_info": {
      "name": "python"
    }
  },
  "cells": [
    {
      "cell_type": "markdown",
      "metadata": {
        "id": "view-in-github",
        "colab_type": "text"
      },
      "source": [
        "<a href=\"https://colab.research.google.com/github/Priyo-prog/Statistics-and-Data-Science/blob/main/exploratory_data_analysis.ipynb\" target=\"_parent\"><img src=\"https://colab.research.google.com/assets/colab-badge.svg\" alt=\"Open In Colab\"/></a>"
      ]
    },
    {
      "cell_type": "markdown",
      "source": [
        "# **Exploratory Data Analysis: Loading Data**\n",
        "\n",
        "1. Manually loading a file\n",
        "\n",
        "2. Using **np.loadtxt**\n",
        "\n",
        "3. Using **np.genfromtxt**\n",
        "\n",
        "4. Using **pd.read_csv**\n",
        "\n",
        "5. Using **pickle**"
      ],
      "metadata": {
        "id": "qnDBIL1cUw5R"
      }
    },
    {
      "cell_type": "code",
      "source": [
        ""
      ],
      "metadata": {
        "id": "-AiP7dD2VQ-B"
      },
      "execution_count": null,
      "outputs": []
    }
  ]
}