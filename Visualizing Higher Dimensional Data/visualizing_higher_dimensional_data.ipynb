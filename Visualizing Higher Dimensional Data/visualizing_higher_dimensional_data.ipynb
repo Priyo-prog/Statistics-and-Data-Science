{
  "nbformat": 4,
  "nbformat_minor": 0,
  "metadata": {
    "colab": {
      "name": "visualizing_higher_dimensional_data.ipynb",
      "provenance": [],
      "authorship_tag": "ABX9TyNAKPd9Chy8g4fZElJ+UJYJ",
      "include_colab_link": true
    },
    "kernelspec": {
      "name": "python3",
      "display_name": "Python 3"
    },
    "language_info": {
      "name": "python"
    }
  },
  "cells": [
    {
      "cell_type": "markdown",
      "metadata": {
        "id": "view-in-github",
        "colab_type": "text"
      },
      "source": [
        "<a href=\"https://colab.research.google.com/github/Priyo-prog/Statistics-and-Data-Science/blob/main/Visualizing%20Higher%20Dimensional%20Data/visualizing_higher_dimensional_data.ipynb\" target=\"_parent\"><img src=\"https://colab.research.google.com/assets/colab-badge.svg\" alt=\"Open In Colab\"/></a>"
      ]
    },
    {
      "cell_type": "markdown",
      "source": [
        "## **Visualizing Higher Dimensional Data**"
      ],
      "metadata": {
        "id": "QXdaebiRBm-2"
      }
    },
    {
      "cell_type": "code",
      "source": [],
      "metadata": {
        "id": "Fsbfi9imBz6P"
      },
      "execution_count": null,
      "outputs": []
    }
  ]
}