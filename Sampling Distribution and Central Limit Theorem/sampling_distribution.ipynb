{
  "nbformat": 4,
  "nbformat_minor": 0,
  "metadata": {
    "colab": {
      "provenance": [],
      "authorship_tag": "ABX9TyNLUcLCJmcI5PEswHxdaXAU",
      "include_colab_link": true
    },
    "kernelspec": {
      "name": "python3",
      "display_name": "Python 3"
    },
    "language_info": {
      "name": "python"
    }
  },
  "cells": [
    {
      "cell_type": "markdown",
      "metadata": {
        "id": "view-in-github",
        "colab_type": "text"
      },
      "source": [
        "<a href=\"https://colab.research.google.com/github/Priyo-prog/Statistics-and-Data-Science/blob/main/Sampling%20Distribution%20and%20Central%20Limit%20Theorem/sampling_distribution.ipynb\" target=\"_parent\"><img src=\"https://colab.research.google.com/assets/colab-badge.svg\" alt=\"Open In Colab\"/></a>"
      ]
    },
    {
      "cell_type": "markdown",
      "source": [
        "# **Sampling Distribution**"
      ],
      "metadata": {
        "id": "RYPuEGhs1p-S"
      }
    },
    {
      "cell_type": "markdown",
      "source": [
        "## Import Libraries and Packages"
      ],
      "metadata": {
        "id": "2u325LZJ543n"
      }
    },
    {
      "cell_type": "code",
      "source": [
        "from scipy.stats import norm, uniform\n",
        "from scipy.integrate import simps\n",
        "import numpy as np\n",
        "import matplotlib.pyplot as plt"
      ],
      "metadata": {
        "id": "K1dGvGZS6AHo"
      },
      "execution_count": 1,
      "outputs": []
    },
    {
      "cell_type": "code",
      "source": [
        "plt.hist(norm.rvs(loc=10, scale=2, size=1000));"
      ],
      "metadata": {
        "colab": {
          "base_uri": "https://localhost:8080/",
          "height": 265
        },
        "id": "RGzqixe-6P2R",
        "outputId": "fa2b6925-a9e4-4518-8a63-fe3cf851c891"
      },
      "execution_count": 4,
      "outputs": [
        {
          "output_type": "display_data",
          "data": {
            "text/plain": [
              "<Figure size 432x288 with 1 Axes>"
            ],
            "image/png": "[encoded data removed]"
          },
          "metadata": {
            "needs_background": "light"
          }
        }
      ]
    },
    {
      "cell_type": "code",
      "source": [
        "## imagine we want to figure out distribution of samples for rolling 3 normal dice\n",
        "\n",
        "samples = np.ceil(uniform.rvs(loc=0, scale=6, size=(1000, 3)))\n",
        "print(samples)"
      ],
      "metadata": {
        "colab": {
          "base_uri": "https://localhost:8080/"
        },
        "id": "XkQEvWwF6y_0",
        "outputId": "1aa257e2-592a-4c2d-a934-ec1caf4df7c9"
      },
      "execution_count": 5,
      "outputs": [
        {
          "output_type": "stream",
          "name": "stdout",
          "text": [
            "[[4. 3. 2.]\n",
            " [1. 1. 2.]\n",
            " [5. 5. 2.]\n",
            " ...\n",
            " [1. 3. 3.]\n",
            " [5. 1. 2.]\n",
            " [1. 5. 5.]]\n"
          ]
        }
      ]
    },
    {
      "cell_type": "code",
      "source": [],
      "metadata": {
        "id": "x4hyp0B87y1_"
      },
      "execution_count": null,
      "outputs": []
    }
  ]
}