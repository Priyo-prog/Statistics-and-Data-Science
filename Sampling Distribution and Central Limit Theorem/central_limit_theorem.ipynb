{
  "nbformat": 4,
  "nbformat_minor": 0,
  "metadata": {
    "colab": {
      "provenance": [],
      "authorship_tag": "ABX9TyPrEiWqi6oclNWRaEv3qmBb",
      "include_colab_link": true
    },
    "kernelspec": {
      "name": "python3",
      "display_name": "Python 3"
    },
    "language_info": {
      "name": "python"
    }
  },
  "cells": [
    {
      "cell_type": "markdown",
      "metadata": {
        "id": "view-in-github",
        "colab_type": "text"
      },
      "source": [
        "<a href=\"https://colab.research.google.com/github/Priyo-prog/Statistics-and-Data-Science/blob/main/Sampling%20Distribution%20and%20Central%20Limit%20Theorem/central_limit_theorem.ipynb\" target=\"_parent\"><img src=\"https://colab.research.google.com/assets/colab-badge.svg\" alt=\"Open In Colab\"/></a>"
      ]
    },
    {
      "cell_type": "markdown",
      "source": [
        "# **Central Limit Theorem**\n",
        "\n",
        "The Central Limit Theorem asserts that the distribution you get from collection the mean of many samples of an underlying distribution, approaches a normal distribution as you keep getting more and more samples."
      ],
      "metadata": {
        "id": "d18lJPwZ1Y43"
      }
    },
    {
      "cell_type": "code",
      "source": [
        "import numpy as np\n",
        "import matplotlib.pyplot as plt\n",
        "from scipy.stats import expon, skewnorm"
      ],
      "metadata": {
        "id": "AqaEcauZ18wU"
      },
      "execution_count": null,
      "outputs": []
    }
  ]
}