{
  "nbformat": 4,
  "nbformat_minor": 0,
  "metadata": {
    "colab": {
      "provenance": [],
      "authorship_tag": "ABX9TyOF6tuXIOgO3OWwpXMMs5lF",
      "include_colab_link": true
    },
    "kernelspec": {
      "name": "python3",
      "display_name": "Python 3"
    },
    "language_info": {
      "name": "python"
    }
  },
  "cells": [
    {
      "cell_type": "markdown",
      "metadata": {
        "id": "view-in-github",
        "colab_type": "text"
      },
      "source": [
        "<a href=\"https://colab.research.google.com/github/Priyo-prog/Statistics-and-Data-Science/blob/main/Hypothesis%20Testing/loaded_dice.ipynb\" target=\"_parent\"><img src=\"https://colab.research.google.com/assets/colab-badge.svg\" alt=\"Open In Colab\"/></a>"
      ]
    },
    {
      "cell_type": "markdown",
      "source": [
        "# **Loaded Dice**\n",
        "\n",
        "Tommy seems to be winning a lot of games recently. You are highly suspecious of his treasure dice. So you've been recording the result of every role.\n",
        "\n",
        "Let's try and answer the simplest question we can: Is Tommy rolling too may sixes ?\n",
        "\n",
        "Let's answer the question rigorously : \n",
        "\n",
        "* 1. Visualize the data. Make sure we understand it.\n",
        "* 2. Reduce or quantify the data\n",
        "* 3. Pose our hypothesis (and visualize)\n",
        "* 4. calculate\n"
      ],
      "metadata": {
        "id": "NgwViyWvMwNR"
      }
    },
    {
      "cell_type": "markdown",
      "source": [
        "## Import packages and libraries"
      ],
      "metadata": {
        "id": "j_FR7RJXNOtB"
      }
    },
    {
      "cell_type": "code",
      "source": [
        "import numpy as np\n",
        "import matplotlib.pyplot as plt"
      ],
      "metadata": {
        "id": "znKsqQiNNTvZ"
      },
      "execution_count": 1,
      "outputs": []
    },
    {
      "cell_type": "markdown",
      "source": [
        "## Load the dataset"
      ],
      "metadata": {
        "id": "JSvnl8CANd2O"
      }
    },
    {
      "cell_type": "code",
      "source": [
        "## mount the google drive to fetch the data\n",
        "from google.colab import drive\n",
        "drive.mount('/content/drive')"
      ],
      "metadata": {
        "colab": {
          "base_uri": "https://localhost:8080/"
        },
        "id": "pEl_1fvQNjeF",
        "outputId": "5a157c60-f767-49c6-c487-391c429db005"
      },
      "execution_count": 2,
      "outputs": [
        {
          "output_type": "stream",
          "name": "stdout",
          "text": [
            "Mounted at /content/drive\n"
          ]
        }
      ]
    },
    {
      "cell_type": "code",
      "source": [
        "filename = '/content/drive/MyDrive/Data Science/Statistical Analysis/loaded_500.txt'"
      ],
      "metadata": {
        "id": "0fqZ7GmgNmX7"
      },
      "execution_count": 3,
      "outputs": []
    },
    {
      "cell_type": "code",
      "source": [
        "data = np.loadtxt(filename)"
      ],
      "metadata": {
        "id": "MaqK3fOTN3-v"
      },
      "execution_count": 4,
      "outputs": []
    },
    {
      "cell_type": "code",
      "source": [
        "unique, counts = np.unique(data, return_counts=True)\n",
        "print(unique, counts)\n",
        "plt.hist(data);"
      ],
      "metadata": {
        "colab": {
          "base_uri": "https://localhost:8080/",
          "height": 282
        },
        "id": "1PSJs1n9PNF9",
        "outputId": "e3d334a3-bb4f-49ce-d584-8c4ea316ea50"
      },
      "execution_count": 6,
      "outputs": [
        {
          "output_type": "stream",
          "name": "stdout",
          "text": [
            "[1. 2. 3. 4. 5. 6.] [70 84 86 74 88 98]\n"
          ]
        },
        {
          "output_type": "display_data",
          "data": {
            "text/plain": [
              "<Figure size 432x288 with 1 Axes>"
            ],
            "image/png": "[encoded data removed]"
          },
          "metadata": {
            "needs_background": "light"
          }
        }
      ]
    },
    {
      "cell_type": "code",
      "source": [
        "num_sixes = (data == 6).sum()\n",
        "num_total = data.size\n",
        "\n",
        "num_sixes, num_total"
      ],
      "metadata": {
        "colab": {
          "base_uri": "https://localhost:8080/"
        },
        "id": "yMiYpF3PP2rM",
        "outputId": "6790ca80-1e1f-4ff8-c82e-fc75cc75c3aa"
      },
      "execution_count": 7,
      "outputs": [
        {
          "output_type": "execute_result",
          "data": {
            "text/plain": [
              "(98, 500)"
            ]
          },
          "metadata": {},
          "execution_count": 7
        }
      ]
    },
    {
      "cell_type": "markdown",
      "source": [
        "## Pose our Hypothesis\n",
        "\n",
        "We have two outcomes when we roll a dice. We roll a six or we roll something else. With a fair die(our null hypothesis), $p(6) = \\frac{1}{6}$. As this is discrete with two options, we are looking at **binomial** distribution.\n",
        "\n",
        "What is the chance we roll 98 **or more** sixes with a fair die."
      ],
      "metadata": {
        "id": "yBzJ7gbQQwlW"
      }
    },
    {
      "cell_type": "code",
      "source": [
        "from scipy.stats import binom\n",
        "n = np.arange(num_total)\n",
        "prob_n = binom.pmf(n, num_total, 1/6)\n",
        "\n",
        "fig, ax = plt.subplots(figsize=(10,7))\n",
        "plt.plot(n, prob_n, label=\"Prob num\")\n",
        "plt.axvline(num_total / 6, ls=\"--\", lw=1, label=\"Mean num\")\n",
        "plt.axvline(num_sixes, ls=\":\", color=\"#ff7272\", label=\"Obs Num\")\n",
        "plt.xlabel(f\"Num sixes roll out of {num_total} rolls\")\n",
        "plt.ylabel(\"Probability\")\n",
        "plt.legend();"
      ],
      "metadata": {
        "colab": {
          "base_uri": "https://localhost:8080/",
          "height": 445
        },
        "id": "BexAxinNR06u",
        "outputId": "0d7f54a6-b450-4498-da9e-99f17b923afc"
      },
      "execution_count": 12,
      "outputs": [
        {
          "output_type": "display_data",
          "data": {
            "text/plain": [
              "<Figure size 720x504 with 1 Axes>"
            ],
            "image/png": "[encoded data removed]"
          },
          "metadata": {
            "needs_background": "light"
          }
        }
      ]
    },
    {
      "cell_type": "code",
      "source": [],
      "metadata": {
        "id": "VXUju98DS8Zv"
      },
      "execution_count": null,
      "outputs": []
    }
  ]
}