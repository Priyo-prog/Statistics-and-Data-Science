{
  "nbformat": 4,
  "nbformat_minor": 0,
  "metadata": {
    "colab": {
      "provenance": [],
      "authorship_tag": "ABX9TyMB+EmoDUilnXjG0KIA9vL+",
      "include_colab_link": true
    },
    "kernelspec": {
      "name": "python3",
      "display_name": "Python 3"
    },
    "language_info": {
      "name": "python"
    }
  },
  "cells": [
    {
      "cell_type": "markdown",
      "metadata": {
        "id": "view-in-github",
        "colab_type": "text"
      },
      "source": [
        "<a href=\"https://colab.research.google.com/github/Priyo-prog/Statistics-and-Data-Science/blob/main/Hypothesis%20Testing/meteorite_impacts.ipynb\" target=\"_parent\"><img src=\"https://colab.research.google.com/assets/colab-badge.svg\" alt=\"Open In Colab\"/></a>"
      ]
    },
    {
      "cell_type": "markdown",
      "source": [
        "# **Meteorite Impacts**"
      ],
      "metadata": {
        "id": "KF21VgKZiOgP"
      }
    },
    {
      "cell_type": "markdown",
      "source": [
        "## Import packages and libraries"
      ],
      "metadata": {
        "id": "9kTbs_uaiWL4"
      }
    },
    {
      "cell_type": "code",
      "source": [
        "import numpy as np\n",
        "import pandas as pd\n",
        "import matplotlib.pyplot as plt"
      ],
      "metadata": {
        "id": "oTi0YfMiidMP"
      },
      "execution_count": 1,
      "outputs": []
    },
    {
      "cell_type": "markdown",
      "source": [
        "## Load the dataset"
      ],
      "metadata": {
        "id": "y-Q2KglmifHH"
      }
    },
    {
      "cell_type": "code",
      "source": [
        "## mount the google drive to fetch the data\n",
        "from google.colab import drive\n",
        "drive.mount('/content/drive')"
      ],
      "metadata": {
        "colab": {
          "base_uri": "https://localhost:8080/"
        },
        "id": "GrA5lM-Ziiz1",
        "outputId": "5621495f-7efd-48ce-cee5-719b59c42605"
      },
      "execution_count": 2,
      "outputs": [
        {
          "output_type": "stream",
          "name": "stdout",
          "text": [
            "Mounted at /content/drive\n"
          ]
        }
      ]
    },
    {
      "cell_type": "code",
      "source": [
        "filename = '/content/drive/MyDrive/Data Science/Statistical Analysis/Meteorite_Landings.csv'"
      ],
      "metadata": {
        "id": "sxZ858Keixbi"
      },
      "execution_count": 3,
      "outputs": []
    },
    {
      "cell_type": "code",
      "source": [
        "df = pd.read_csv(filename)\n",
        "df.info()"
      ],
      "metadata": {
        "colab": {
          "base_uri": "https://localhost:8080/"
        },
        "id": "oArn3hiri7WA",
        "outputId": "6e6f2140-ef55-4a54-e261-97928365b609"
      },
      "execution_count": 4,
      "outputs": [
        {
          "output_type": "stream",
          "name": "stdout",
          "text": [
            "<class 'pandas.core.frame.DataFrame'>\n",
            "RangeIndex: 45716 entries, 0 to 45715\n",
            "Data columns (total 10 columns):\n",
            " #   Column       Non-Null Count  Dtype  \n",
            "---  ------       --------------  -----  \n",
            " 0   name         45716 non-null  object \n",
            " 1   id           45716 non-null  int64  \n",
            " 2   nametype     45716 non-null  object \n",
            " 3   recclass     45716 non-null  object \n",
            " 4   mass         45585 non-null  float64\n",
            " 5   fall         45716 non-null  object \n",
            " 6   year         45428 non-null  float64\n",
            " 7   reclat       38401 non-null  float64\n",
            " 8   reclong      38401 non-null  float64\n",
            " 9   GeoLocation  38401 non-null  object \n",
            "dtypes: float64(4), int64(1), object(5)\n",
            "memory usage: 3.5+ MB\n"
          ]
        }
      ]
    },
    {
      "cell_type": "code",
      "source": [],
      "metadata": {
        "id": "WZN9tYgOjDOm"
      },
      "execution_count": 4,
      "outputs": []
    }
  ]
}