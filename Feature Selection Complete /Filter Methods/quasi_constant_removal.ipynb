{
  "nbformat": 4,
  "nbformat_minor": 0,
  "metadata": {
    "colab": {
      "provenance": [],
      "authorship_tag": "ABX9TyPXqA2iH9PnBEaCfLak6ocu",
      "include_colab_link": true
    },
    "kernelspec": {
      "name": "python3",
      "display_name": "Python 3"
    },
    "language_info": {
      "name": "python"
    }
  },
  "cells": [
    {
      "cell_type": "markdown",
      "metadata": {
        "id": "view-in-github",
        "colab_type": "text"
      },
      "source": [
        "<a href=\"https://colab.research.google.com/github/Priyo-prog/Statistics-and-Data-Science/blob/main/Feature%20Selection%20Complete%20/Filter%20Methods/quasi_constant_removal.ipynb\" target=\"_parent\"><img src=\"https://colab.research.google.com/assets/colab-badge.svg\" alt=\"Open In Colab\"/></a>"
      ]
    },
    {
      "cell_type": "markdown",
      "source": [
        "# **Quasi-Constant Removal**\n",
        "\n",
        "Quasi-constants are the values in the feature where almost all the values are same\n",
        "\n"
      ],
      "metadata": {
        "id": "cPRs-omAEomD"
      }
    },
    {
      "cell_type": "code",
      "source": [],
      "metadata": {
        "id": "AK7Xl_ZBFNkd"
      },
      "execution_count": null,
      "outputs": []
    }
  ]
}