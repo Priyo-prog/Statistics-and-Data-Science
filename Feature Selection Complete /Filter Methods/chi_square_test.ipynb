{
  "nbformat": 4,
  "nbformat_minor": 0,
  "metadata": {
    "colab": {
      "provenance": [],
      "authorship_tag": "ABX9TyNrJ1lXeptpUAEyjIJl8Vim",
      "include_colab_link": true
    },
    "kernelspec": {
      "name": "python3",
      "display_name": "Python 3"
    },
    "language_info": {
      "name": "python"
    }
  },
  "cells": [
    {
      "cell_type": "markdown",
      "metadata": {
        "id": "view-in-github",
        "colab_type": "text"
      },
      "source": [
        "<a href=\"https://colab.research.google.com/github/Priyo-prog/Statistics-and-Data-Science/blob/main/Feature%20Selection%20Complete%20/Filter%20Methods/chi_square_test.ipynb\" target=\"_parent\"><img src=\"https://colab.research.google.com/assets/colab-badge.svg\" alt=\"Open In Colab\"/></a>"
      ]
    },
    {
      "cell_type": "markdown",
      "source": [
        "# **Chi-Square Test**\n",
        "Compute chi-squared test between categorical features and classification target."
      ],
      "metadata": {
        "id": "O33tNvBgt227"
      }
    },
    {
      "cell_type": "code",
      "source": [],
      "metadata": {
        "id": "-x0gk9x0uM2t"
      },
      "execution_count": null,
      "outputs": []
    }
  ]
}