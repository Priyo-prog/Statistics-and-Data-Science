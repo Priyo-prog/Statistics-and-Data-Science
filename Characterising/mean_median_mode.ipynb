{
  "nbformat": 4,
  "nbformat_minor": 0,
  "metadata": {
    "colab": {
      "name": "mean_median_mode.ipynb",
      "provenance": [],
      "authorship_tag": "ABX9TyOV36W6Rwk4ezqy8VE31sUG",
      "include_colab_link": true
    },
    "kernelspec": {
      "name": "python3",
      "display_name": "Python 3"
    },
    "language_info": {
      "name": "python"
    }
  },
  "cells": [
    {
      "cell_type": "markdown",
      "metadata": {
        "id": "view-in-github",
        "colab_type": "text"
      },
      "source": [
        "<a href=\"https://colab.research.google.com/github/Priyo-prog/Statistics-and-Data-Science/blob/main/Characterising/mean_median_mode.ipynb\" target=\"_parent\"><img src=\"https://colab.research.google.com/assets/colab-badge.svg\" alt=\"Open In Colab\"/></a>"
      ]
    },
    {
      "cell_type": "markdown",
      "source": [
        "## **Central Tendency of Data**"
      ],
      "metadata": {
        "id": "8PlQGhUjmiBO"
      }
    },
    {
      "cell_type": "markdown",
      "source": [
        "## Import Libraries and Packages"
      ],
      "metadata": {
        "id": "GUF_WEfPmxWt"
      }
    },
    {
      "cell_type": "code",
      "source": [
        "import numpy as np\n",
        "import matplotlib.pyplot as plt\n",
        "import scipy.stats as st"
      ],
      "metadata": {
        "id": "bOP_wUF1m3Cj"
      },
      "execution_count": 1,
      "outputs": []
    },
    {
      "cell_type": "markdown",
      "source": [
        "## Load Data Set"
      ],
      "metadata": {
        "id": "4icv3Ay0nHyT"
      }
    },
    {
      "cell_type": "code",
      "source": [
        "## mount the google drive to fetch the data\n",
        "from google.colab import drive\n",
        "drive.mount('/content/drive')"
      ],
      "metadata": {
        "colab": {
          "base_uri": "https://localhost:8080/"
        },
        "id": "C6Z4zlRCnoGY",
        "outputId": "6f6478d3-4d3a-45e0-b4dc-08903e67ba79"
      },
      "execution_count": 2,
      "outputs": [
        {
          "output_type": "stream",
          "name": "stdout",
          "text": [
            "Mounted at /content/drive\n"
          ]
        }
      ]
    },
    {
      "cell_type": "code",
      "source": [
        "filename = '/content/drive/MyDrive/Data Science/Statistical Analysis/dataset.txt'"
      ],
      "metadata": {
        "id": "hII6AtiEnr8o"
      },
      "execution_count": 3,
      "outputs": []
    },
    {
      "cell_type": "code",
      "source": [
        "data = np.loadtxt(filename)\n",
        "plt.hist(data);"
      ],
      "metadata": {
        "id": "U7YDvPkyoCIC",
        "colab": {
          "base_uri": "https://localhost:8080/",
          "height": 265
        },
        "outputId": "2310f164-bba0-4e24-e23e-c83f16465e77"
      },
      "execution_count": 4,
      "outputs": [
        {
          "output_type": "display_data",
          "data": {
            "text/plain": [
              "<Figure size 432x288 with 1 Axes>"
            ],
            "image/png": "[encoded data removed]"
          },
          "metadata": {
            "needs_background": "light"
          }
        }
      ]
    },
    {
      "cell_type": "markdown",
      "source": [
        "## Mean"
      ],
      "metadata": {
        "id": "VObqwtO2ogmN"
      }
    },
    {
      "cell_type": "code",
      "source": [
        "def get_mean(xs):\n",
        "  summed = 0\n",
        "  for x in xs:\n",
        "    summed += x\n",
        "  return summed / len(xs)  "
      ],
      "metadata": {
        "id": "Xhp5VbG-o_IF"
      },
      "execution_count": 5,
      "outputs": []
    },
    {
      "cell_type": "code",
      "source": [
        "print(get_mean([3,5,2,6]))"
      ],
      "metadata": {
        "colab": {
          "base_uri": "https://localhost:8080/"
        },
        "id": "7SsxyOwcpTVH",
        "outputId": "92a6f8bc-bdf2-4f8a-ef6f-2fd8115ec527"
      },
      "execution_count": 6,
      "outputs": [
        {
          "output_type": "stream",
          "name": "stdout",
          "text": [
            "4.0\n"
          ]
        }
      ]
    },
    {
      "cell_type": "code",
      "source": [
        "mean = np.mean(data)\n",
        "print(mean, data.mean(), np.average(data))"
      ],
      "metadata": {
        "colab": {
          "base_uri": "https://localhost:8080/"
        },
        "id": "1XHLjBiKpZcG",
        "outputId": "9f43ce2e-64cf-4106-ba9e-e78ddde603a7"
      },
      "execution_count": 7,
      "outputs": [
        {
          "output_type": "stream",
          "name": "stdout",
          "text": [
            "7.68805056 7.68805056 7.68805056\n"
          ]
        }
      ]
    },
    {
      "cell_type": "markdown",
      "source": [
        "## Median\n",
        "\n",
        "Sort all your data and take out the middle element.That's your median."
      ],
      "metadata": {
        "id": "VvRXuRXHpwQ5"
      }
    },
    {
      "cell_type": "code",
      "source": [
        "def get_median(xs):\n",
        "  mid = len(xs) // 2\n",
        "  if len(xs) % 2 == 1:\n",
        "    return sorted(xs)[mid]\n",
        "  else:\n",
        "    return 0.5 * np.sum(sorted(xs)[mid - 1:mid + 1])  "
      ],
      "metadata": {
        "id": "WCkorbzwqKtN"
      },
      "execution_count": 8,
      "outputs": []
    },
    {
      "cell_type": "code",
      "source": [
        "print(get_median([7,7,3,1,4,5]))"
      ],
      "metadata": {
        "colab": {
          "base_uri": "https://localhost:8080/"
        },
        "id": "Omwob8lIshdb",
        "outputId": "467731be-bd2e-4ae8-d9ac-093c33545f79"
      },
      "execution_count": 9,
      "outputs": [
        {
          "output_type": "stream",
          "name": "stdout",
          "text": [
            "4.5\n"
          ]
        }
      ]
    },
    {
      "cell_type": "code",
      "source": [
        "median = np.median(data)\n",
        "print(median)"
      ],
      "metadata": {
        "colab": {
          "base_uri": "https://localhost:8080/"
        },
        "id": "mESxDSVhsnUZ",
        "outputId": "9e5c41a0-d78c-43a0-b686-258e16f94c3b"
      },
      "execution_count": 10,
      "outputs": [
        {
          "output_type": "stream",
          "name": "stdout",
          "text": [
            "6.7325\n"
          ]
        }
      ]
    },
    {
      "cell_type": "markdown",
      "source": [
        "Means are sensitive to outliers but medians are not sensitive to outliers"
      ],
      "metadata": {
        "id": "t0ZwfzVesyTP"
      }
    },
    {
      "cell_type": "code",
      "source": [
        "outliers = np.insert(data, 0, 5000)\n",
        "\n",
        "fig, ax = plt.subplots(figsize=(15,10))\n",
        "plt.hist(data, label=\"Data\", bins=30, color='y')\n",
        "plt.axvline(np.mean(data), ls=\"--\", label=\"Mean Data\")\n",
        "plt.axvline(np.median(data), ls=\":\", label=\"Median Data\")\n",
        "plt.axvline(np.mean(outliers), c=\"r\", ls=\"--\", label=\"Mean Outliers\", alpha=0.7)\n",
        "plt.axvline(np.mean(data), c=\"r\", ls=\":\", label=\"Median Outliers\", alpha=0.7)\n",
        "plt.legend()\n",
        "plt.xlim(0,20);"
      ],
      "metadata": {
        "colab": {
          "base_uri": "https://localhost:8080/",
          "height": 592
        },
        "id": "-y-iJb3es_U0",
        "outputId": "05384bfa-63db-4adb-f4b4-e8fb017ccf7a"
      },
      "execution_count": 11,
      "outputs": [
        {
          "output_type": "display_data",
          "data": {
            "text/plain": [
              "<Figure size 1080x720 with 1 Axes>"
            ],
            "image/png": "[encoded data removed]"
          },
          "metadata": {
            "needs_background": "light"
          }
        }
      ]
    },
    {
      "cell_type": "markdown",
      "source": [
        "## Mode\n",
        "\n",
        "Another outlier insensitive method, it returns us the value which is most common."
      ],
      "metadata": {
        "id": "PLH1S1BpuMed"
      }
    },
    {
      "cell_type": "code",
      "source": [
        "def get_mode(xs):\n",
        "  values, counts = np.unique(xs, return_counts=True)\n",
        "  max_count_index = np.argmax(counts)\n",
        "  return values[max_count_index]"
      ],
      "metadata": {
        "id": "gXu-n4NtwrDo"
      },
      "execution_count": 12,
      "outputs": []
    },
    {
      "cell_type": "code",
      "source": [
        "print(get_mode([1,7,2,5,3,3,8,3,2]))"
      ],
      "metadata": {
        "colab": {
          "base_uri": "https://localhost:8080/"
        },
        "id": "8L3gsNZ4xTO1",
        "outputId": "fda6e1fb-d5bc-421f-f64c-93a953472e0a"
      },
      "execution_count": 13,
      "outputs": [
        {
          "output_type": "stream",
          "name": "stdout",
          "text": [
            "3\n"
          ]
        }
      ]
    },
    {
      "cell_type": "code",
      "source": [
        "mode = st.mode(data)\n",
        "print(mode)"
      ],
      "metadata": {
        "colab": {
          "base_uri": "https://localhost:8080/"
        },
        "id": "5zdxD-r9xbM2",
        "outputId": "441381f7-5fa2-44c7-e851-65a92051e1a0"
      },
      "execution_count": 14,
      "outputs": [
        {
          "output_type": "stream",
          "name": "stdout",
          "text": [
            "ModeResult(mode=array([5.519]), count=array([9]))\n"
          ]
        }
      ]
    },
    {
      "cell_type": "code",
      "source": [
        "hist, edges = np.histogram(data, bins=100)\n",
        "edge_centers = 0.5 * (edges[1:] + edges[:-1])\n",
        "mode = edge_centers[hist.argmax()]\n",
        "print(mode)"
      ],
      "metadata": {
        "colab": {
          "base_uri": "https://localhost:8080/"
        },
        "id": "O3zGdSPzxtIZ",
        "outputId": "17e88848-0778-4505-e583-6d84e6af5a37"
      },
      "execution_count": 15,
      "outputs": [
        {
          "output_type": "stream",
          "name": "stdout",
          "text": [
            "5.223165\n"
          ]
        }
      ]
    },
    {
      "cell_type": "markdown",
      "source": [
        "## **KDE Plot**"
      ],
      "metadata": {
        "id": "kUD2YdfLzA2I"
      }
    },
    {
      "cell_type": "code",
      "source": [
        "kde = st.gaussian_kde(data)\n",
        "xvals = np.linspace(data.min(), data.max())\n",
        "yvals = kde(xvals)\n",
        "mode = xvals[yvals.argmax()]\n",
        "fig, ax = plt.subplots(figsize=(10,5))\n",
        "plt.hist(data, bins=100, density=True, label=\"Data Hist\", histtype=\"step\")\n",
        "plt.plot(xvals, yvals, label=\"KDE\")\n",
        "plt.axvline(mode, label=\"Mode\")\n",
        "plt.legend();"
      ],
      "metadata": {
        "colab": {
          "base_uri": "https://localhost:8080/",
          "height": 320
        },
        "id": "JIwcNttKuq22",
        "outputId": "56b76e65-1419-4b6e-d9ed-6922f0d3fd00"
      },
      "execution_count": 18,
      "outputs": [
        {
          "output_type": "display_data",
          "data": {
            "text/plain": [
              "<Figure size 720x360 with 1 Axes>"
            ],
            "image/png": "[encoded data removed]"
          },
          "metadata": {
            "needs_background": "light"
          }
        }
      ]
    },
    {
      "cell_type": "markdown",
      "source": [
        "## **Comparison**"
      ],
      "metadata": {
        "id": "2yxV112fwFTk"
      }
    },
    {
      "cell_type": "code",
      "source": [
        "fig, ax = plt.subplots(figsize=(15,10))\n",
        "plt.hist(data, bins=100, label=\"Data\", alpha=0.5)\n",
        "plt.axvline(mean, label=\"Mean\", ls=\"--\", c=\"#f9ee4a\")\n",
        "plt.axvline(median, label=\"Median\", ls=\"-\", c=\"#44d9ff\")\n",
        "plt.axvline(mode, label=\"Mode\", ls=\":\", c=\"#f95b4a\")\n",
        "plt.legend();"
      ],
      "metadata": {
        "id": "x1DcE5Faws6B",
        "outputId": "d481e82e-e350-44df-fcd6-cdff9a13bdb6",
        "colab": {
          "base_uri": "https://localhost:8080/",
          "height": 592
        }
      },
      "execution_count": 21,
      "outputs": [
        {
          "output_type": "display_data",
          "data": {
            "text/plain": [
              "<Figure size 1080x720 with 1 Axes>"
            ],
            "image/png": "[encoded data removed]"
          },
          "metadata": {
            "needs_background": "light"
          }
        }
      ]
    },
    {
      "cell_type": "code",
      "source": [],
      "metadata": {
        "id": "AzqIyNmOxfjL"
      },
      "execution_count": null,
      "outputs": []
    }
  ]
}