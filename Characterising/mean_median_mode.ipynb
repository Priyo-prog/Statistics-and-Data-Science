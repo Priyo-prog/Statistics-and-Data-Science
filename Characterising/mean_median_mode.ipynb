{
  "nbformat": 4,
  "nbformat_minor": 0,
  "metadata": {
    "colab": {
      "name": "mean_median_mode.ipynb",
      "provenance": [],
      "authorship_tag": "ABX9TyN4dFOuxEgRNNt4UbJwkJm8",
      "include_colab_link": true
    },
    "kernelspec": {
      "name": "python3",
      "display_name": "Python 3"
    },
    "language_info": {
      "name": "python"
    }
  },
  "cells": [
    {
      "cell_type": "markdown",
      "metadata": {
        "id": "view-in-github",
        "colab_type": "text"
      },
      "source": [
        "<a href=\"https://colab.research.google.com/github/Priyo-prog/Statistics-and-Data-Science/blob/main/Characterising/mean_median_mode.ipynb\" target=\"_parent\"><img src=\"https://colab.research.google.com/assets/colab-badge.svg\" alt=\"Open In Colab\"/></a>"
      ]
    },
    {
      "cell_type": "markdown",
      "source": [
        "## **Central Tendency of Data**"
      ],
      "metadata": {
        "id": "8PlQGhUjmiBO"
      }
    },
    {
      "cell_type": "markdown",
      "source": [
        "## Import Libraries and Packages"
      ],
      "metadata": {
        "id": "GUF_WEfPmxWt"
      }
    },
    {
      "cell_type": "code",
      "source": [
        "import numpy as np\n",
        "import matplotlib.pyplot as plt\n",
        "import scipy.stats as st"
      ],
      "metadata": {
        "id": "bOP_wUF1m3Cj"
      },
      "execution_count": 1,
      "outputs": []
    },
    {
      "cell_type": "markdown",
      "source": [
        "## Load Data Set"
      ],
      "metadata": {
        "id": "4icv3Ay0nHyT"
      }
    },
    {
      "cell_type": "code",
      "source": [
        "## mount the google drive to fetch the data\n",
        "from google.colab import drive\n",
        "drive.mount('/content/drive')"
      ],
      "metadata": {
        "colab": {
          "base_uri": "https://localhost:8080/"
        },
        "id": "C6Z4zlRCnoGY",
        "outputId": "e1d65118-fb87-4649-f23e-0a18865d3a11"
      },
      "execution_count": 2,
      "outputs": [
        {
          "output_type": "stream",
          "name": "stdout",
          "text": [
            "Mounted at /content/drive\n"
          ]
        }
      ]
    },
    {
      "cell_type": "code",
      "source": [
        "filename = '/content/drive/MyDrive/Data Science/Statistical Analysis/dataset.txt'"
      ],
      "metadata": {
        "id": "hII6AtiEnr8o"
      },
      "execution_count": 3,
      "outputs": []
    },
    {
      "cell_type": "code",
      "source": [
        "data = np.loadtxt(filename)\n",
        "plt.hist(data);"
      ],
      "metadata": {
        "id": "U7YDvPkyoCIC",
        "colab": {
          "base_uri": "https://localhost:8080/",
          "height": 265
        },
        "outputId": "30a152ba-8550-4c1b-aa2d-f11f50a7a17f"
      },
      "execution_count": 4,
      "outputs": [
        {
          "output_type": "display_data",
          "data": {
            "text/plain": [
              "<Figure size 432x288 with 1 Axes>"
            ],
            "image/png": "[encoded data removed]"
          },
          "metadata": {
            "needs_background": "light"
          }
        }
      ]
    },
    {
      "cell_type": "markdown",
      "source": [
        "## Mean"
      ],
      "metadata": {
        "id": "VObqwtO2ogmN"
      }
    },
    {
      "cell_type": "code",
      "source": [
        "def get_mean(xs):\n",
        "  summed = 0\n",
        "  for x in xs:\n",
        "    summed += x\n",
        "  return summed / len(xs)  "
      ],
      "metadata": {
        "id": "Xhp5VbG-o_IF"
      },
      "execution_count": 5,
      "outputs": []
    },
    {
      "cell_type": "code",
      "source": [
        "print(get_mean([3,5,2,6]))"
      ],
      "metadata": {
        "colab": {
          "base_uri": "https://localhost:8080/"
        },
        "id": "7SsxyOwcpTVH",
        "outputId": "ca54e5ff-ad93-4d49-fc56-971bd8c19c98"
      },
      "execution_count": 6,
      "outputs": [
        {
          "output_type": "stream",
          "name": "stdout",
          "text": [
            "4.0\n"
          ]
        }
      ]
    },
    {
      "cell_type": "code",
      "source": [
        "mean = np.mean(data)\n",
        "print(mean, data.mean(), np.average(data))"
      ],
      "metadata": {
        "colab": {
          "base_uri": "https://localhost:8080/"
        },
        "id": "1XHLjBiKpZcG",
        "outputId": "31a95338-cffe-4b36-db49-b9275753a9cf"
      },
      "execution_count": 7,
      "outputs": [
        {
          "output_type": "stream",
          "name": "stdout",
          "text": [
            "7.68805056 7.68805056 7.68805056\n"
          ]
        }
      ]
    },
    {
      "cell_type": "markdown",
      "source": [
        "## Median\n",
        "\n",
        "Sort all your data and take out the middle element.That's your median."
      ],
      "metadata": {
        "id": "VvRXuRXHpwQ5"
      }
    },
    {
      "cell_type": "code",
      "source": [
        "def get_median(xs):\n",
        "  mid = len(xs) // 2\n",
        "  if len(xs) % 2 == 1:\n",
        "    return sorted(xs)[mid]\n",
        "  else:\n",
        "    return 0.5 * np.sum(sorted(xs)[mid - 1:mid + 1])  "
      ],
      "metadata": {
        "id": "WCkorbzwqKtN"
      },
      "execution_count": 8,
      "outputs": []
    },
    {
      "cell_type": "code",
      "source": [
        "print(get_median([7,7,3,1,4,5]))"
      ],
      "metadata": {
        "colab": {
          "base_uri": "https://localhost:8080/"
        },
        "id": "Omwob8lIshdb",
        "outputId": "b78a7a4e-faff-4184-dafa-e8f42c9910b3"
      },
      "execution_count": 10,
      "outputs": [
        {
          "output_type": "stream",
          "name": "stdout",
          "text": [
            "4.5\n"
          ]
        }
      ]
    },
    {
      "cell_type": "code",
      "source": [
        "median = np.median(data)\n",
        "print(median)"
      ],
      "metadata": {
        "colab": {
          "base_uri": "https://localhost:8080/"
        },
        "id": "mESxDSVhsnUZ",
        "outputId": "d41c507c-613e-4f81-bf02-960810efd748"
      },
      "execution_count": 11,
      "outputs": [
        {
          "output_type": "stream",
          "name": "stdout",
          "text": [
            "6.7325\n"
          ]
        }
      ]
    },
    {
      "cell_type": "markdown",
      "source": [
        "Means are sensitive to outliers but medians are not sensitive to outliers"
      ],
      "metadata": {
        "id": "t0ZwfzVesyTP"
      }
    },
    {
      "cell_type": "code",
      "source": [
        "outliers = np.insert(data, 0, 5000)\n",
        "\n",
        "fig, ax = plt.subplots(figsize=(15,10))\n",
        "plt.hist(data, label=\"Data\", bins=30, color='y')\n",
        "plt.axvline(np.mean(data), ls=\"--\", label=\"Mean Data\")\n",
        "plt.axvline(np.median(data), ls=\":\", label=\"Median Data\")\n",
        "plt.axvline(np.mean(outliers), c=\"r\", ls=\"--\", label=\"Mean Outliers\", alpha=0.7)\n",
        "plt.axvline(np.mean(data), c=\"r\", ls=\":\", label=\"Median Outliers\", alpha=0.7)\n",
        "plt.legend()\n",
        "plt.xlim(0,20);"
      ],
      "metadata": {
        "colab": {
          "base_uri": "https://localhost:8080/",
          "height": 592
        },
        "id": "-y-iJb3es_U0",
        "outputId": "7860baf8-406e-4b08-9d85-243f9da49529"
      },
      "execution_count": 17,
      "outputs": [
        {
          "output_type": "display_data",
          "data": {
            "text/plain": [
              "<Figure size 1080x720 with 1 Axes>"
            ],
            "image/png": "[encoded data removed]"
          },
          "metadata": {
            "needs_background": "light"
          }
        }
      ]
    },
    {
      "cell_type": "code",
      "source": [],
      "metadata": {
        "id": "PLH1S1BpuMed"
      },
      "execution_count": null,
      "outputs": []
    }
  ]
}