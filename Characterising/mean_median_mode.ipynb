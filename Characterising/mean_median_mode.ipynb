{
  "nbformat": 4,
  "nbformat_minor": 0,
  "metadata": {
    "colab": {
      "name": "mean_median_mode.ipynb",
      "provenance": [],
      "authorship_tag": "ABX9TyOdhd86u8KxGDc3bXYSKdEZ",
      "include_colab_link": true
    },
    "kernelspec": {
      "name": "python3",
      "display_name": "Python 3"
    },
    "language_info": {
      "name": "python"
    }
  },
  "cells": [
    {
      "cell_type": "markdown",
      "metadata": {
        "id": "view-in-github",
        "colab_type": "text"
      },
      "source": [
        "<a href=\"https://colab.research.google.com/github/Priyo-prog/Statistics-and-Data-Science/blob/main/Characterising/mean_median_mode.ipynb\" target=\"_parent\"><img src=\"https://colab.research.google.com/assets/colab-badge.svg\" alt=\"Open In Colab\"/></a>"
      ]
    },
    {
      "cell_type": "markdown",
      "source": [
        "## **Central Tendency of Data**"
      ],
      "metadata": {
        "id": "8PlQGhUjmiBO"
      }
    },
    {
      "cell_type": "markdown",
      "source": [
        "## Import Libraries and Packages"
      ],
      "metadata": {
        "id": "GUF_WEfPmxWt"
      }
    },
    {
      "cell_type": "code",
      "source": [
        "import numpy as np\n",
        "import matplotlib.pyplot as plt\n",
        "import scipy.stats as st"
      ],
      "metadata": {
        "id": "bOP_wUF1m3Cj"
      },
      "execution_count": 1,
      "outputs": []
    },
    {
      "cell_type": "markdown",
      "source": [
        "## Load Data Set"
      ],
      "metadata": {
        "id": "4icv3Ay0nHyT"
      }
    },
    {
      "cell_type": "code",
      "source": [
        "## mount the google drive to fetch the data\n",
        "from google.colab import drive\n",
        "drive.mount('/content/drive')"
      ],
      "metadata": {
        "colab": {
          "base_uri": "https://localhost:8080/"
        },
        "id": "C6Z4zlRCnoGY",
        "outputId": "26a25d7f-e4a2-4ca1-f554-8a649eb1ea7e"
      },
      "execution_count": 2,
      "outputs": [
        {
          "output_type": "stream",
          "name": "stdout",
          "text": [
            "Mounted at /content/drive\n"
          ]
        }
      ]
    },
    {
      "cell_type": "code",
      "source": [
        "filename = '/content/drive/MyDrive/Data Science/Statistical Analysis/dataset.txt'"
      ],
      "metadata": {
        "id": "hII6AtiEnr8o"
      },
      "execution_count": 3,
      "outputs": []
    },
    {
      "cell_type": "code",
      "source": [
        "data = np.loadtxt(filename)"
      ],
      "metadata": {
        "id": "U7YDvPkyoCIC"
      },
      "execution_count": null,
      "outputs": []
    }
  ]
}