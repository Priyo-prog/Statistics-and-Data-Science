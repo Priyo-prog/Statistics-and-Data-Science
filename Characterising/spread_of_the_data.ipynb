{
  "nbformat": 4,
  "nbformat_minor": 0,
  "metadata": {
    "colab": {
      "name": "spread_of_the_data.ipynb",
      "provenance": [],
      "authorship_tag": "ABX9TyNsU835r/hLpf2874PLSDkt",
      "include_colab_link": true
    },
    "kernelspec": {
      "name": "python3",
      "display_name": "Python 3"
    },
    "language_info": {
      "name": "python"
    }
  },
  "cells": [
    {
      "cell_type": "markdown",
      "metadata": {
        "id": "view-in-github",
        "colab_type": "text"
      },
      "source": [
        "<a href=\"https://colab.research.google.com/github/Priyo-prog/Statistics-and-Data-Science/blob/main/Characterising/spread_of_the_data.ipynb\" target=\"_parent\"><img src=\"https://colab.research.google.com/assets/colab-badge.svg\" alt=\"Open In Colab\"/></a>"
      ]
    },
    {
      "cell_type": "markdown",
      "source": [
        "# **Measure of Width and Balance**\n",
        "\n",
        "* Variance\n",
        "* Standard Deviation\n",
        "* Skewness\n",
        "* Kurtosis\n",
        "\n",
        "##**Variance**\n",
        "\n",
        "The **variance** of a distribution is a measure of how much it spreads out around the mean. A touch more formally, it's the expected value of the squared deviation from the mean"
      ],
      "metadata": {
        "id": "tqQd5LweyG7X"
      }
    },
    {
      "cell_type": "markdown",
      "source": [
        "## Import libraries and packages"
      ],
      "metadata": {
        "id": "5geWesLMzvTS"
      }
    },
    {
      "cell_type": "code",
      "source": [
        "import numpy as np\n",
        "import matplotlib.pyplot as plt\n",
        "import scipy.stats as st"
      ],
      "metadata": {
        "id": "r7LYq9Bmzy5h"
      },
      "execution_count": 1,
      "outputs": []
    },
    {
      "cell_type": "code",
      "source": [
        "## manually\n",
        "\n",
        "def get_variance(xs):\n",
        "  mean = np.mean(xs)\n",
        "  summed = 0\n",
        "  for x in xs:\n",
        "    summed += (x - mean)**2\n",
        "  return summed / (len(xs) - 1)\n",
        "print(get_variance([1,2,3,4,5]))    "
      ],
      "metadata": {
        "colab": {
          "base_uri": "https://localhost:8080/"
        },
        "id": "IgtRMpm9z1d6",
        "outputId": "988c35c4-3316-4f3a-99c2-ac5f22a6028e"
      },
      "execution_count": 4,
      "outputs": [
        {
          "output_type": "stream",
          "name": "stdout",
          "text": [
            "2.5\n"
          ]
        }
      ]
    },
    {
      "cell_type": "code",
      "source": [
        "## numpy\n",
        "\n",
        "variance = np.var([1,2,3,4,5], ddof=1 )\n",
        "print(variance)"
      ],
      "metadata": {
        "colab": {
          "base_uri": "https://localhost:8080/"
        },
        "id": "PB4i-nYZ07gi",
        "outputId": "380ec956-1197-46f5-c496-ac554063e942"
      },
      "execution_count": 5,
      "outputs": [
        {
          "output_type": "stream",
          "name": "stdout",
          "text": [
            "2.5\n"
          ]
        }
      ]
    },
    {
      "cell_type": "code",
      "source": [],
      "metadata": {
        "id": "jVR4vvt91mmh"
      },
      "execution_count": null,
      "outputs": []
    }
  ]
}